{
 "cells": [
  {
   "cell_type": "code",
   "execution_count": 1,
   "metadata": {},
   "outputs": [
    {
     "name": "stdout",
     "output_type": "stream",
     "text": [
      "Фраза 1 длиннее фразы 2\n"
     ]
    }
   ],
   "source": [
    "# Сравнение длин строк\n",
    "phrase_1 = 'Насколько проще было бы писать программы, если бы не заказчики'\n",
    "phrase_2 = '640Кб должно хватить для любых задач. Билл Гейтс (по легенде)'\n",
    "if len(phrase_1) > len(phrase_2):\n",
    "    print('Фраза 1 длиннее фразы 2')\n",
    "elif len(phrase_1) < len(phrase_2):\n",
    "    print('Фраза 2 длиннее фразы 1')\n",
    "else:\n",
    "    print('Фразы равной длины')"
   ]
  },
  {
   "cell_type": "code",
   "execution_count": 2,
   "metadata": {},
   "outputs": [
    {
     "name": "stdout",
     "output_type": "stream",
     "text": [
      "Обычный год\n"
     ]
    }
   ],
   "source": [
    "# Определение високосного года\n",
    "year=2021\n",
    "if year % 4 == 0 or year % 400 == 0:\n",
    "    print('Високосный год')\n",
    "else:\n",
    "    print('Обычный год')"
   ]
  },
  {
   "cell_type": "code",
   "execution_count": null,
   "metadata": {},
   "outputs": [],
   "source": [
    "# Опредление знака зодиака\n",
    "date = int(input('Введите день:'))\n",
    "month = input('Введите месяц:')\n",
    "if (month == 'Март' and date >= 21 and date <=31) or (month == 'Апрель' and date >= 1 and date <=20):\n",
    "    print('Ваш знак зодиака: Овен')\n",
    "elif (month == 'Апрель' and date >= 21 and date <=30) or (month == 'Май' and date >= 1 and date <=21):\n",
    "    print('Ваш знак зодиака: Телец')\n",
    "elif (month == 'Май' and date >= 22 and date <=31) or (month == 'Июнь' and date >= 1 and date <=21):\n",
    "    print('Ваш знак зодиака: Близнецы')\n",
    "elif (month == 'Июнь' and date >= 22 and date <=30) or (month == 'Июль' and date >= 1 and date <=22):\n",
    "    print('Ваш знак зодиака: Рак')\n",
    "elif (month == 'Июль' and date >= 23 and date <=31) or (month == 'Август' and date >= 1 and date <=21):\n",
    "    print('Ваш знак зодиака: Лев')\n",
    "elif (month == 'Август' and date >= 22 and date <=31) or (month == 'Сентябрь' and date >= 1 and date <=23):\n",
    "    print('Ваш знак зодиака: Дева')\n",
    "elif (month == 'Сентябрь' and date >= 24 and date <=30) or (month == 'Октябрь' and date >= 1 and date <=23):\n",
    "    print('Ваш знак зодиака: Весы')\n",
    "elif (month == 'Октябрь' and date >= 24 and date <=31) or (month == 'Ноябрь' and date >= 1 and date <=22):\n",
    "    print('Ваш знак зодиака: Скорпион')\n",
    "elif (month == 'Ноябрь' and date >= 23 and date <=30) or (month == 'Декабрь' and date >= 1 and date <=22):\n",
    "    print('Ваш знак зодиака: Стрелец')\n",
    "elif (month == 'Декабрь' and date >= 23 and date <=31) or (month == 'Январь' and date >= 1 and date <=20):\n",
    "    print('Ваш знак зодиака: Стрелец')\n",
    "elif (month == 'Январь' and date >= 21 and date <=31) or (month == 'Февраль' and date >= 1 and date <=19):\n",
    "    print('Ваш знак зодиака: Водолей')\n",
    "else: \n",
    "    print('Ваш знак зодиака: Рыбы')"
   ]
  },
  {
   "cell_type": "code",
   "execution_count": null,
   "metadata": {},
   "outputs": [],
   "source": [
    "# Подбор упаковки по размерам\n",
    "width = 45\n",
    "length = 205\n",
    "height = 45\n",
    "if (length >= 200):\n",
    "    print('Упаковка для лыж')\n",
    "elif (width < 15 and length < 15 and height < 15):\n",
    "    print('Коробка №1')\n",
    "elif (15 <= width < 50) or (15 <= length < 50) or (15 <= height < 50):\n",
    "    print('Коробка №2')\n",
    "else:\n",
    "    print('Стандартная коробка №3')"
   ]
  },
  {
   "cell_type": "code",
   "execution_count": null,
   "metadata": {},
   "outputs": [],
   "source": [
    "# Вычисление площадей фигур\n",
    "shape = input('Введите тип фигуры:')\n",
    "if shape == 'Круг':\n",
    "    radius = int(input('Введите радиус круга:'))\n",
    "    print('Площадь круга:', radius ** 2 * 3.14)\n",
    "if shape == 'Треугольник':\n",
    "    a = int(input('Введите длину стороны A:'))\n",
    "    b = int(input('Введите длину стороны В:'))\n",
    "    c = int(input('Введите длину стороны С:'))\n",
    "    p = 0.5 * (a + b + c)\n",
    "    print('Площадь треугольника:', (p * (p - a) * (p - b) * (p - c)) ** 0.5)\n",
    "if shape == 'Прямоугольник':\n",
    "    a = int(input('Введите длину стороны A:'))\n",
    "    b = int(input('Введите длину стороны В:'))\n",
    "    print('Площадь прямоугольника:', a * b)"
   ]
  }
 ],
 "metadata": {
  "kernelspec": {
   "display_name": "Python 3",
   "language": "python",
   "name": "python3"
  },
  "language_info": {
   "codemirror_mode": {
    "name": "ipython",
    "version": 3
   },
   "file_extension": ".py",
   "mimetype": "text/x-python",
   "name": "python",
   "nbconvert_exporter": "python",
   "pygments_lexer": "ipython3",
   "version": "3.8.5"
  }
 },
 "nbformat": 4,
 "nbformat_minor": 4
}
