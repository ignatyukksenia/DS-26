{
 "cells": [
  {
   "cell_type": "code",
   "execution_count": null,
   "metadata": {},
   "outputs": [],
   "source": [
    "#Задача 1. Вывод на экран средней буквы в слове\n",
    "word = 'test'\n",
    "p = len (word)//2\n",
    "if p % 2 == 0:\n",
    "    print ('Результат:', word [int(p) - 1: int (p) + 1])\n",
    "else:\n",
    "    print ('Результат:', word [int(p)])"
   ]
  },
  {
   "cell_type": "code",
   "execution_count": null,
   "metadata": {},
   "outputs": [],
   "source": [
    "#Задача 3. Подбор идеальных пар\n",
    "boys = ['Peter', 'Alex', 'John', 'Arthur', 'Richard']\n",
    "girls = ['Kate', 'Liza', 'Kira', 'Emma', 'Trisha']\n",
    "if len (boys) == len (girls):\n",
    "    couples = list(zip (sorted (boys), sorted (girls)))\n",
    "    for names in couples:\n",
    "        print (names [0], 'и', names [1])\n",
    "else:\n",
    "    print ('Результат:')\n",
    "    print ('Внимание, кто-то может остаться без пары!')"
   ]
  },
  {
   "cell_type": "code",
   "execution_count": null,
   "metadata": {},
   "outputs": [],
   "source": [
    "#Задача 4. Расчет средней температуры в Цельсия по странам\n",
    "countries_temperature = [\n",
    "['Thailand', [75.2, 77, 78.8, 73.4, 68, 75.2, 77]],\n",
    "['Germany', [57.2, 55.4, 59, 59, 53.6]],\n",
    "['Russia', [35.6, 37.4, 39.2, 41, 42.8, 39.2, 35.6]],\n",
    "['Poland', [50, 50, 53.6, 57.2, 55.4, 55.4]]\n",
    "]\n",
    "print ('Результат:')\n",
    "for t in countries_temperature:\n",
    "    c = ((sum(t[1]) / len (t[1]))- 32) * 5 / 9\n",
    "    print (t[0], '-', round(c, 1))"
   ]
  }
 ],
 "metadata": {
  "kernelspec": {
   "display_name": "Python 3",
   "language": "python",
   "name": "python3"
  },
  "language_info": {
   "codemirror_mode": {
    "name": "ipython",
    "version": 3
   },
   "file_extension": ".py",
   "mimetype": "text/x-python",
   "name": "python",
   "nbconvert_exporter": "python",
   "pygments_lexer": "ipython3",
   "version": "3.8.5"
  }
 },
 "nbformat": 4,
 "nbformat_minor": 4
}
