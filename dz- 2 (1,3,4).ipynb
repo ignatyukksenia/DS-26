{
 "cells": [
  {
   "cell_type": "code",
   "execution_count": null,
   "metadata": {},
   "outputs": [],
   "source": [
    "#Задача 1. Вывод на экран средней буквы в слове\n",
    "word = 'test'\n",
    "p = len (word)//2\n",
    "if p % 2 == 0:\n",
    "    print ('Результат:', word [int(p) - 1: int (p) + 1])\n",
    "else:\n",
    "    print ('Результат:', word [int(p)])"
   ]
  },
  {
   "cell_type": "code",
   "execution_count": null,
   "metadata": {},
   "outputs": [],
   "source": [
    "#Задача 3. Подбор идеальных пар\n",
    "boys = ['Peter', 'Alex', 'John', 'Arthur', 'Richard']\n",
    "girls = ['Kate', 'Liza', 'Kira', 'Emma', 'Trisha']\n",
    "if len (boys) == len (girls):\n",
    "    couples = list(zip (sorted (boys), sorted (girls)))\n",
    "    for names in couples:\n",
    "        print (names [0], 'и', names [1])\n",
    "else:\n",
    "    print ('Результат:')\n",
    "    print ('Внимание, кто-то может остаться без пары!')"
   ]
  },
  {
   "cell_type": "code",
   "execution_count": null,
   "metadata": {},
   "outputs": [],
   "source": [
    "#Задача 4. Расчет средней температуры в Цельсия по странам\n",
    "countries_temperature = [\n",
    "['Thailand', [75.2, 77, 78.8, 73.4, 68, 75.2, 77]],\n",
    "['Germany', [57.2, 55.4, 59, 59, 53.6]],\n",
    "['Russia', [35.6, 37.4, 39.2, 41, 42.8, 39.2, 35.6]],\n",
    "['Poland', [50, 50, 53.6, 57.2, 55.4, 55.4]]\n",
    "]\n",
    "print ('Результат:')\n",
    "for t in countries_temperature:\n",
    "    c = ((sum(t[1]) / len (t[1]))- 32) * 5 / 9\n",
    "    print (t[0], '-', round(c, 1))"
   ]
  },
  {
   "cell_type": "code",
   "execution_count": null,
   "metadata": {},
   "outputs": [],
   "source": [
    "#Задача 2. Последовательный запрос чисел у пользователя и выводит сумму всех ранее введенных чисел после введения нуля.\n",
    "number = int(input('Введите число:'))\n",
    "a = 0\n",
    "while number != 0:\n",
    "    a = a + number\n",
    "    number = int(input('Введите число:'))\n",
    "print (a)"
   ]
  },
  {
   "cell_type": "code",
   "execution_count": null,
   "metadata": {},
   "outputs": [],
   "source": [
    "#Задача 5. Определение отношения суммы всех просмотров к количеству уникальных пользователей\n",
    "stream = [\n",
    "'2018-01-01,user1,3',\n",
    "'2018-01-07,user1,4',\n",
    "'2018-03-29,user1,1',\n",
    "'2018-04-04,user1,13',\n",
    "'2018-01-05,user2,7',\n",
    "'2018-06-14,user3,4',\n",
    "'2018-07-02,user3,10',\n",
    "'2018-03-21,user4,19',\n",
    "'2018-03-22,user4,4',\n",
    "'2018-04-22,user4,8',\n",
    "'2018-05-03,user4,9',\n",
    "'2018-05-11,user4,11',\n",
    "]\n",
    "l = []\n",
    "for string in stream:\n",
    "    string = string.split(',')\n",
    "    l.append(string)\n",
    "unique_user = []\n",
    "t = 0\n",
    "for string in l:\n",
    "    date, user, time = string\n",
    "    t = t + int(time)\n",
    "    if user not in unique_user:\n",
    "        unique_user.append(user)\n",
    "print ('Результат:')\n",
    "print ('Среднее количество просмотров на уникального пользователя:', t / len(unique_user))"
   ]
  },
  {
   "cell_type": "code",
   "execution_count": null,
   "metadata": {},
   "outputs": [],
   "source": [
    "#Задача 6.  Запросить у пользлвателя набор чисел, разделенных пробелом, и вывести числа, которые повторяются одного раза.\n",
    "numbers = str(input('Введите числа:'))\n",
    "numbers = numbers.split(' ')\n",
    "unique_numbers = []\n",
    "for number in numbers:\n",
    "    if number not in unique_numbers:\n",
    "        unique_numbers.append(number)\n",
    "print('Результат:')\n",
    "print(' '.join(unique_numbers))"
   ]
  }
 ],
 "metadata": {
  "kernelspec": {
   "display_name": "Python 3",
   "language": "python",
   "name": "python3"
  },
  "language_info": {
   "codemirror_mode": {
    "name": "ipython",
    "version": 3
   },
   "file_extension": ".py",
   "mimetype": "text/x-python",
   "name": "python",
   "nbconvert_exporter": "python",
   "pygments_lexer": "ipython3",
   "version": "3.8.5"
  }
 },
 "nbformat": 4,
 "nbformat_minor": 4
}
