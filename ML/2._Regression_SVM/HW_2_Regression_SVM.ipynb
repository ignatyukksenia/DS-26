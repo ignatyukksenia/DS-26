{
 "cells": [
  {
   "cell_type": "markdown",
   "id": "e89c9855",
   "metadata": {},
   "source": [
    "### Задание:\n",
    "Необходимо построить модели логистической регрессии и SVM, которые предсказывает уровень дохода человека.\n",
    "Вывести качество полученных моделей на тестовой выборке, используя функцию score у модели."
   ]
  },
  {
   "cell_type": "markdown",
   "id": "47c1cdfa",
   "metadata": {},
   "source": [
    "Описание переменных:\n",
    "\n",
    "* age - возраст, непрерывная величина\n",
    "* workclass - рабочий класс, категориальная переменная\n",
    "* fnlwgt - (final weight) - примерная оценка количества людей, которое представляет каждая строка данных, непрерывная величина\n",
    "* education - уровень образования, категориальная величина\n",
    "* education-num - количество лет обучения, непрерывная величина\n",
    "* marital-status - семейный статус, ктегориальная переменная\n",
    "* occupation - род занятий, категориальная переменная\n",
    "* relationship - статус отношений, категориальная переменная\n",
    "* race - расса, категориальная переменная\n",
    "* sex - пол, категориальная переменная\n",
    "* capital-gain - прирост капитала, непрерывная величина\n",
    "* capital-loss - убыль капитала, непрерывная величина\n",
    "* hours-per-week - количество рабочих часов в неделю, непрерывная величина\n",
    "* native-country - родная страна, категориальная переменная"
   ]
  },
  {
   "cell_type": "code",
   "execution_count": 1,
   "id": "eb9d093e",
   "metadata": {},
   "outputs": [],
   "source": [
    "import pandas as pd\n",
    "from sklearn.preprocessing import LabelEncoder\n",
    "from sklearn.pipeline import make_pipeline\n",
    "from sklearn.preprocessing import StandardScaler\n",
    "from sklearn.model_selection import train_test_split\n",
    "from sklearn.linear_model import LogisticRegression\n",
    "from sklearn.svm import SVC"
   ]
  },
  {
   "cell_type": "code",
   "execution_count": 2,
   "id": "8cab113e",
   "metadata": {},
   "outputs": [
    {
     "data": {
      "text/html": [
       "<div>\n",
       "<style scoped>\n",
       "    .dataframe tbody tr th:only-of-type {\n",
       "        vertical-align: middle;\n",
       "    }\n",
       "\n",
       "    .dataframe tbody tr th {\n",
       "        vertical-align: top;\n",
       "    }\n",
       "\n",
       "    .dataframe thead th {\n",
       "        text-align: right;\n",
       "    }\n",
       "</style>\n",
       "<table border=\"1\" class=\"dataframe\">\n",
       "  <thead>\n",
       "    <tr style=\"text-align: right;\">\n",
       "      <th></th>\n",
       "      <th>age</th>\n",
       "      <th>workclass</th>\n",
       "      <th>fnlwgt</th>\n",
       "      <th>education</th>\n",
       "      <th>educational-num</th>\n",
       "      <th>marital-status</th>\n",
       "      <th>occupation</th>\n",
       "      <th>relationship</th>\n",
       "      <th>race</th>\n",
       "      <th>gender</th>\n",
       "      <th>capital-gain</th>\n",
       "      <th>capital-loss</th>\n",
       "      <th>hours-per-week</th>\n",
       "      <th>native-country</th>\n",
       "      <th>income</th>\n",
       "    </tr>\n",
       "  </thead>\n",
       "  <tbody>\n",
       "    <tr>\n",
       "      <th>0</th>\n",
       "      <td>25</td>\n",
       "      <td>Private</td>\n",
       "      <td>226802</td>\n",
       "      <td>11th</td>\n",
       "      <td>7</td>\n",
       "      <td>Never-married</td>\n",
       "      <td>Machine-op-inspct</td>\n",
       "      <td>Own-child</td>\n",
       "      <td>Black</td>\n",
       "      <td>Male</td>\n",
       "      <td>0</td>\n",
       "      <td>0</td>\n",
       "      <td>40</td>\n",
       "      <td>United-States</td>\n",
       "      <td>&lt;=50K</td>\n",
       "    </tr>\n",
       "    <tr>\n",
       "      <th>1</th>\n",
       "      <td>38</td>\n",
       "      <td>Private</td>\n",
       "      <td>89814</td>\n",
       "      <td>HS-grad</td>\n",
       "      <td>9</td>\n",
       "      <td>Married-civ-spouse</td>\n",
       "      <td>Farming-fishing</td>\n",
       "      <td>Husband</td>\n",
       "      <td>White</td>\n",
       "      <td>Male</td>\n",
       "      <td>0</td>\n",
       "      <td>0</td>\n",
       "      <td>50</td>\n",
       "      <td>United-States</td>\n",
       "      <td>&lt;=50K</td>\n",
       "    </tr>\n",
       "    <tr>\n",
       "      <th>2</th>\n",
       "      <td>28</td>\n",
       "      <td>Local-gov</td>\n",
       "      <td>336951</td>\n",
       "      <td>Assoc-acdm</td>\n",
       "      <td>12</td>\n",
       "      <td>Married-civ-spouse</td>\n",
       "      <td>Protective-serv</td>\n",
       "      <td>Husband</td>\n",
       "      <td>White</td>\n",
       "      <td>Male</td>\n",
       "      <td>0</td>\n",
       "      <td>0</td>\n",
       "      <td>40</td>\n",
       "      <td>United-States</td>\n",
       "      <td>&gt;50K</td>\n",
       "    </tr>\n",
       "    <tr>\n",
       "      <th>3</th>\n",
       "      <td>44</td>\n",
       "      <td>Private</td>\n",
       "      <td>160323</td>\n",
       "      <td>Some-college</td>\n",
       "      <td>10</td>\n",
       "      <td>Married-civ-spouse</td>\n",
       "      <td>Machine-op-inspct</td>\n",
       "      <td>Husband</td>\n",
       "      <td>Black</td>\n",
       "      <td>Male</td>\n",
       "      <td>7688</td>\n",
       "      <td>0</td>\n",
       "      <td>40</td>\n",
       "      <td>United-States</td>\n",
       "      <td>&gt;50K</td>\n",
       "    </tr>\n",
       "    <tr>\n",
       "      <th>4</th>\n",
       "      <td>18</td>\n",
       "      <td>NaN</td>\n",
       "      <td>103497</td>\n",
       "      <td>Some-college</td>\n",
       "      <td>10</td>\n",
       "      <td>Never-married</td>\n",
       "      <td>NaN</td>\n",
       "      <td>Own-child</td>\n",
       "      <td>White</td>\n",
       "      <td>Female</td>\n",
       "      <td>0</td>\n",
       "      <td>0</td>\n",
       "      <td>30</td>\n",
       "      <td>United-States</td>\n",
       "      <td>&lt;=50K</td>\n",
       "    </tr>\n",
       "  </tbody>\n",
       "</table>\n",
       "</div>"
      ],
      "text/plain": [
       "   age  workclass  fnlwgt     education  educational-num      marital-status  \\\n",
       "0   25    Private  226802          11th                7       Never-married   \n",
       "1   38    Private   89814       HS-grad                9  Married-civ-spouse   \n",
       "2   28  Local-gov  336951    Assoc-acdm               12  Married-civ-spouse   \n",
       "3   44    Private  160323  Some-college               10  Married-civ-spouse   \n",
       "4   18        NaN  103497  Some-college               10       Never-married   \n",
       "\n",
       "          occupation relationship   race  gender  capital-gain  capital-loss  \\\n",
       "0  Machine-op-inspct    Own-child  Black    Male             0             0   \n",
       "1    Farming-fishing      Husband  White    Male             0             0   \n",
       "2    Protective-serv      Husband  White    Male             0             0   \n",
       "3  Machine-op-inspct      Husband  Black    Male          7688             0   \n",
       "4                NaN    Own-child  White  Female             0             0   \n",
       "\n",
       "   hours-per-week native-country income  \n",
       "0              40  United-States  <=50K  \n",
       "1              50  United-States  <=50K  \n",
       "2              40  United-States   >50K  \n",
       "3              40  United-States   >50K  \n",
       "4              30  United-States  <=50K  "
      ]
     },
     "execution_count": 2,
     "metadata": {},
     "output_type": "execute_result"
    }
   ],
   "source": [
    "income = pd.read_csv('adult.csv', na_values = '?')\n",
    "income.head()"
   ]
  },
  {
   "cell_type": "code",
   "execution_count": 3,
   "id": "30c6dfe1",
   "metadata": {},
   "outputs": [
    {
     "name": "stdout",
     "output_type": "stream",
     "text": [
      "<class 'pandas.core.frame.DataFrame'>\n",
      "RangeIndex: 48842 entries, 0 to 48841\n",
      "Data columns (total 15 columns):\n",
      " #   Column           Non-Null Count  Dtype \n",
      "---  ------           --------------  ----- \n",
      " 0   age              48842 non-null  int64 \n",
      " 1   workclass        46043 non-null  object\n",
      " 2   fnlwgt           48842 non-null  int64 \n",
      " 3   education        48842 non-null  object\n",
      " 4   educational-num  48842 non-null  int64 \n",
      " 5   marital-status   48842 non-null  object\n",
      " 6   occupation       46033 non-null  object\n",
      " 7   relationship     48842 non-null  object\n",
      " 8   race             48842 non-null  object\n",
      " 9   gender           48842 non-null  object\n",
      " 10  capital-gain     48842 non-null  int64 \n",
      " 11  capital-loss     48842 non-null  int64 \n",
      " 12  hours-per-week   48842 non-null  int64 \n",
      " 13  native-country   47985 non-null  object\n",
      " 14  income           48842 non-null  object\n",
      "dtypes: int64(6), object(9)\n",
      "memory usage: 5.6+ MB\n"
     ]
    }
   ],
   "source": [
    "# Краткая информация о датафрейме\n",
    "income.info()"
   ]
  },
  {
   "cell_type": "code",
   "execution_count": 4,
   "id": "7116d0c3",
   "metadata": {},
   "outputs": [
    {
     "data": {
      "text/html": [
       "<div>\n",
       "<style scoped>\n",
       "    .dataframe tbody tr th:only-of-type {\n",
       "        vertical-align: middle;\n",
       "    }\n",
       "\n",
       "    .dataframe tbody tr th {\n",
       "        vertical-align: top;\n",
       "    }\n",
       "\n",
       "    .dataframe thead th {\n",
       "        text-align: right;\n",
       "    }\n",
       "</style>\n",
       "<table border=\"1\" class=\"dataframe\">\n",
       "  <thead>\n",
       "    <tr style=\"text-align: right;\">\n",
       "      <th></th>\n",
       "      <th>workclass</th>\n",
       "      <th>occupation</th>\n",
       "      <th>native-country</th>\n",
       "    </tr>\n",
       "  </thead>\n",
       "  <tbody>\n",
       "    <tr>\n",
       "      <th>count</th>\n",
       "      <td>46043</td>\n",
       "      <td>46033</td>\n",
       "      <td>47985</td>\n",
       "    </tr>\n",
       "    <tr>\n",
       "      <th>unique</th>\n",
       "      <td>8</td>\n",
       "      <td>14</td>\n",
       "      <td>41</td>\n",
       "    </tr>\n",
       "    <tr>\n",
       "      <th>top</th>\n",
       "      <td>Private</td>\n",
       "      <td>Prof-specialty</td>\n",
       "      <td>United-States</td>\n",
       "    </tr>\n",
       "    <tr>\n",
       "      <th>freq</th>\n",
       "      <td>33906</td>\n",
       "      <td>6172</td>\n",
       "      <td>43832</td>\n",
       "    </tr>\n",
       "  </tbody>\n",
       "</table>\n",
       "</div>"
      ],
      "text/plain": [
       "       workclass      occupation native-country\n",
       "count      46043           46033          47985\n",
       "unique         8              14             41\n",
       "top      Private  Prof-specialty  United-States\n",
       "freq       33906            6172          43832"
      ]
     },
     "execution_count": 4,
     "metadata": {},
     "output_type": "execute_result"
    }
   ],
   "source": [
    "# Определение наиболее частых значений для переменных с пропусками\n",
    "income[['workclass', 'occupation', 'native-country']].describe()"
   ]
  },
  {
   "cell_type": "code",
   "execution_count": 5,
   "id": "9312bd7f",
   "metadata": {},
   "outputs": [],
   "source": [
    "# Замена пропусков наиболее часто встречающимися значениями\n",
    "income['workclass'].fillna('Private', inplace = True)\n",
    "income['occupation'].fillna('Prof-specialty', inplace = True)\n",
    "income['native-country'].fillna('United-States', inplace = True)"
   ]
  },
  {
   "cell_type": "code",
   "execution_count": 6,
   "id": "0c3037b2",
   "metadata": {},
   "outputs": [
    {
     "name": "stdout",
     "output_type": "stream",
     "text": [
      "11th [7]\n",
      "HS-grad [9]\n",
      "Assoc-acdm [12]\n",
      "Some-college [10]\n",
      "10th [6]\n",
      "Prof-school [15]\n",
      "7th-8th [4]\n",
      "Bachelors [13]\n",
      "Masters [14]\n",
      "Doctorate [16]\n",
      "5th-6th [3]\n",
      "Assoc-voc [11]\n",
      "9th [5]\n",
      "12th [8]\n",
      "1st-4th [2]\n",
      "Preschool [1]\n"
     ]
    }
   ],
   "source": [
    "# Вывод соответствия переменных education и educational-num\n",
    "for ed in income.education.unique():\n",
    "    income_ = income[income.education == ed]\n",
    "    print(ed, income_['educational-num'].unique())"
   ]
  },
  {
   "cell_type": "markdown",
   "id": "565786a6",
   "metadata": {},
   "source": [
    "Пропуски значений есть только в категориальных переменных: workclass, occupation, native-country. Имеющиес пропуски заполнены наиболее часто встречающимися значениями переменной.\n",
    "\n",
    "Каждому значению переменной education соответсвует только одно значение количества лет обучения, т.е. столбец educational-num дублируется переменную education. Для обучения модели будет использован только один из них.\n",
    "\n",
    "Переменная fnlwgt является оценочной и не влияет на целевую переменную. В расчете модели использоваться так же не будет."
   ]
  },
  {
   "cell_type": "code",
   "execution_count": 7,
   "id": "bb922b0e",
   "metadata": {},
   "outputs": [],
   "source": [
    "# Отбор переменных для обучения модели\n",
    "selected_feature = income[['age', 'educational-num', 'capital-gain', 'capital-loss', 'hours-per-week',\n",
    "                          'workclass', 'marital-status', 'occupation', 'relationship', 'race', 'gender', 'native-country']]\n",
    "\n",
    "# Перевод категориальных переменных в бинарный систему\n",
    "X = pd.get_dummies(selected_feature, columns = ['workclass', 'marital-status', 'occupation',\n",
    "                                                      'relationship', 'race', 'gender','native-country'])"
   ]
  },
  {
   "cell_type": "code",
   "execution_count": 8,
   "id": "8fdd4b6d",
   "metadata": {},
   "outputs": [],
   "source": [
    "# Перевод целевой переменной в бинарную систему\n",
    "\n",
    "# Создание объекта Label Encoder\n",
    "le = LabelEncoder()\n",
    "\n",
    "# Обучение объекта\n",
    "le.fit_transform(income.income)\n",
    "\n",
    "# Преобразование целевой переменной в объект Series\n",
    "y = pd.Series(le.fit_transform(income.income))"
   ]
  },
  {
   "cell_type": "markdown",
   "id": "b73cebe4",
   "metadata": {},
   "source": [
    "### Модель логистической регрессии"
   ]
  },
  {
   "cell_type": "code",
   "execution_count": 9,
   "id": "4cfbf09e",
   "metadata": {},
   "outputs": [
    {
     "data": {
      "text/plain": [
       "Pipeline(steps=[('standardscaler', StandardScaler()),\n",
       "                ('logisticregression', LogisticRegression())])"
      ]
     },
     "execution_count": 9,
     "metadata": {},
     "output_type": "execute_result"
    }
   ],
   "source": [
    "# Создание пайплайна\n",
    "model_logreg = make_pipeline(StandardScaler(), LogisticRegression())\n",
    "\n",
    "# Разделение выборки на обучающую и тестовую\n",
    "X_train, X_test, y_train, y_test = train_test_split(X, y, test_size = 0.3, random_state = 42)\n",
    "\n",
    "# Обучение модели\n",
    "model_logreg.fit(X_train, y_train)"
   ]
  },
  {
   "cell_type": "code",
   "execution_count": 10,
   "id": "d1648faa",
   "metadata": {},
   "outputs": [
    {
     "data": {
      "text/plain": [
       "0.849776243821112"
      ]
     },
     "execution_count": 10,
     "metadata": {},
     "output_type": "execute_result"
    }
   ],
   "source": [
    "# Точночть предсказания обучаюшей выбороки\n",
    "model_logreg.score(X_train, y_train)"
   ]
  },
  {
   "cell_type": "code",
   "execution_count": 11,
   "id": "78a42d04",
   "metadata": {},
   "outputs": [
    {
     "data": {
      "text/plain": [
       "0.8574353374735549"
      ]
     },
     "execution_count": 11,
     "metadata": {},
     "output_type": "execute_result"
    }
   ],
   "source": [
    "# Точночть предсказания тестовой выбороки\n",
    "model_logreg.score(X_test, y_test)"
   ]
  },
  {
   "cell_type": "markdown",
   "id": "b53c1c9c",
   "metadata": {},
   "source": [
    "### Модель SVC"
   ]
  },
  {
   "cell_type": "code",
   "execution_count": 12,
   "id": "62aa09d5",
   "metadata": {},
   "outputs": [],
   "source": [
    "# Создание пайплайна\n",
    "model_SVC = make_pipeline(StandardScaler(), SVC(gamma = 'auto'))\n",
    "\n",
    "# Разделение выборки на обучающую и тестовую\n",
    "X_train, X_test, y_train, y_test = train_test_split(X, y, test_size = 0.3, random_state = 42)"
   ]
  },
  {
   "cell_type": "code",
   "execution_count": 13,
   "id": "b988efba",
   "metadata": {},
   "outputs": [
    {
     "data": {
      "text/plain": [
       "Pipeline(steps=[('standardscaler', StandardScaler()),\n",
       "                ('svc', SVC(gamma='auto'))])"
      ]
     },
     "execution_count": 13,
     "metadata": {},
     "output_type": "execute_result"
    }
   ],
   "source": [
    "# Обучение модели\n",
    "model_SVC.fit(X_train, y_train)"
   ]
  },
  {
   "cell_type": "code",
   "execution_count": 14,
   "id": "4c7806f1",
   "metadata": {},
   "outputs": [
    {
     "data": {
      "text/plain": [
       "0.8567082979905818"
      ]
     },
     "execution_count": 14,
     "metadata": {},
     "output_type": "execute_result"
    }
   ],
   "source": [
    "# Точночть предсказания обучаюшей выбороки\n",
    "model_SVC.score(X_train, y_train)"
   ]
  },
  {
   "cell_type": "code",
   "execution_count": 15,
   "id": "6e72667f",
   "metadata": {},
   "outputs": [
    {
     "data": {
      "text/plain": [
       "0.8529311403808094"
      ]
     },
     "execution_count": 15,
     "metadata": {},
     "output_type": "execute_result"
    }
   ],
   "source": [
    "# Точночть предсказания обучаюшей выбороки\n",
    "model_SVC.score(X_test, y_test)"
   ]
  },
  {
   "cell_type": "markdown",
   "id": "fae9acba",
   "metadata": {},
   "source": [
    "Вывод:\n",
    "\n",
    "Обе модели имеют близкие показатели точноти предсказания - около 85%. На модели логистической регрессии точность достигает 85.74%, т.е. выше чем при применении метода опорных векторов.\n",
    "При этом точность предсказания логистической регрессии на тестовых данных выше, чем на обучающей выборке."
   ]
  }
 ],
 "metadata": {
  "kernelspec": {
   "display_name": "Python 3",
   "language": "python",
   "name": "python3"
  },
  "language_info": {
   "codemirror_mode": {
    "name": "ipython",
    "version": 3
   },
   "file_extension": ".py",
   "mimetype": "text/x-python",
   "name": "python",
   "nbconvert_exporter": "python",
   "pygments_lexer": "ipython3",
   "version": "3.8.8"
  }
 },
 "nbformat": 4,
 "nbformat_minor": 5
}
