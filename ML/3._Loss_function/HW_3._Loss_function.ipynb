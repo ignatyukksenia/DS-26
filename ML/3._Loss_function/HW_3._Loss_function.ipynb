{
 "cells": [
  {
   "cell_type": "markdown",
   "id": "d75d84d5",
   "metadata": {},
   "source": [
    "### Взять код градиентного спуска для линейной регрессии (с занятия) и обучить ее\n",
    "* Методом nesterov momentum\n",
    "* Методом rmsprop"
   ]
  },
  {
   "cell_type": "code",
   "execution_count": 1,
   "id": "9aa48ecf",
   "metadata": {},
   "outputs": [],
   "source": [
    "import numpy as np"
   ]
  },
  {
   "cell_type": "code",
   "execution_count": 2,
   "id": "5a113514",
   "metadata": {},
   "outputs": [],
   "source": [
    "# Генерация выборок X и Y\n",
    "N = 100\n",
    "X = np.random.uniform(low=0, high=100, size=N)\n",
    "Y = 2*X + 1 + np.random.normal(scale=5, size=N)"
   ]
  },
  {
   "cell_type": "code",
   "execution_count": 3,
   "id": "355af6c8",
   "metadata": {},
   "outputs": [],
   "source": [
    "EPOCHS = 20\n",
    "LEARNING_RATE = 0.0001"
   ]
  },
  {
   "cell_type": "code",
   "execution_count": 4,
   "id": "7bdb85b8",
   "metadata": {},
   "outputs": [],
   "source": [
    "# Функция потерь\n",
    "def cost_function(X, y, theta0, theta1):\n",
    "    total_cost = 0\n",
    "    for i in range(len(X)):\n",
    "        total_cost += (theta0 + theta1*X[i] - y[i]) ** 2\n",
    "    return total_cost / (2 * len(X))"
   ]
  },
  {
   "cell_type": "code",
   "execution_count": 5,
   "id": "62262f50",
   "metadata": {},
   "outputs": [],
   "source": [
    "# Производная функции потерь по θ0\n",
    "def der_theta0(X, y, theta0, theta1):\n",
    "    total_cost = 0\n",
    "    for i in range(len(X)):\n",
    "        total_cost += (theta0 + theta1*X[i] - y[i])\n",
    "    return total_cost / (len(X))  "
   ]
  },
  {
   "cell_type": "code",
   "execution_count": 6,
   "id": "302c7388",
   "metadata": {},
   "outputs": [],
   "source": [
    "# Производная функции потерь по θ1\n",
    "def der_theta1(X, y, theta0, theta1):\n",
    "    total_cost = 0\n",
    "    for i in range(len(X)):\n",
    "        total_cost += (theta0 + theta1*X[i] - y[i]) * X[i]\n",
    "    return total_cost / (len(X))  "
   ]
  },
  {
   "cell_type": "markdown",
   "id": "3ea979d8",
   "metadata": {},
   "source": [
    "### Обучение методом nesterov momentum"
   ]
  },
  {
   "cell_type": "code",
   "execution_count": 7,
   "id": "a543fe0c",
   "metadata": {},
   "outputs": [
    {
     "name": "stdout",
     "output_type": "stream",
     "text": [
      "t0: 1.0047101039776514 t1: 1.3058449102899534 cost: 734.090874371848\n",
      "t0: 1.0079751136974155 t1: 1.5170815966114164 cost: 356.80510967247386\n",
      "t0: 1.010242044730326 t1: 1.6629755413998542 cost: 176.83210714021754\n",
      "t0: 1.0118196358064548 t1: 1.7637394362644538 cost: 90.98131127688194\n",
      "t0: 1.0129211224585766 t1: 1.833333512443126 cost: 50.028725194666464\n",
      "t0: 1.0136937793497305 t1: 1.8813996355510054 cost: 30.49349972174386\n",
      "t0: 1.0142393241725154 t1: 1.9145971202481418 cost: 21.174791515652416\n",
      "t0: 1.0146280099410923 t1: 1.937525332830613 cost: 16.729570149157556\n",
      "t0: 1.0149083580667606 t1: 1.9533609020365685 cost: 14.60910127489743\n",
      "t0: 1.0151138806682927 t1: 1.964297819274921 cost: 13.597586693350008\n",
      "t0: 1.015267723447239 t1: 1.9718514011593409 cost: 13.115065898434821\n",
      "t0: 1.0153858723668863 t1: 1.9770682262818589 cost: 12.884885915385624\n",
      "t0: 1.015479368398351 t1: 1.9806711315330723 cost: 12.775077640022776\n",
      "t0: 1.0155558371717586 t1: 1.98315935621941 cost: 12.722689121539675\n",
      "t0: 1.0156205454552434 t1: 1.984877708261339 cost: 12.697690997116947\n",
      "t0: 1.0156771308297194 t1: 1.9860643349771596 cost: 12.685758649013895\n",
      "t0: 1.0157281056508827 t1: 1.9868837167684168 cost: 12.680058942786296\n",
      "t0: 1.0157752051189395 t1: 1.987449454756824 cost: 12.67733233411835\n",
      "t0: 1.0158196276787472 t1: 1.9878400094442614 cost: 12.676023953976912\n",
      "t0: 1.0158622010561646 t1: 1.9881095708797571 cost: 12.675392098161582\n"
     ]
    }
   ],
   "source": [
    "# Начальные точки\n",
    "theta0 = 1\n",
    "theta1 = 1\n",
    "# Экспоненциальное скользящее среднее\n",
    "vt0 = 0\n",
    "vt1 = 0\n",
    "# Коэффициент сохранения\n",
    "gamma = 0.9\n",
    "\n",
    "for _ in range(EPOCHS):\n",
    "    # Вычисление производных\n",
    "    dt0 = der_theta0(X, Y, theta0, theta1)\n",
    "    dt1 = der_theta1(X, Y, theta0, theta1)\n",
    "    \n",
    "    # Обновление параметров\n",
    "    theta0 = theta0 - (gamma * vt0 + LEARNING_RATE * dt0)\n",
    "    theta1 = theta1 - (gamma * vt1 + LEARNING_RATE * dt1)\n",
    "    \n",
    "    print(\"t0:\", theta0, \"t1:\", theta1, \"cost:\", cost_function(X, Y, theta0, theta1))"
   ]
  },
  {
   "cell_type": "markdown",
   "id": "0bdb81d4",
   "metadata": {},
   "source": [
    "### Обучение методом rmsprop"
   ]
  },
  {
   "cell_type": "code",
   "execution_count": 8,
   "id": "7c78b691",
   "metadata": {},
   "outputs": [
    {
     "name": "stdout",
     "output_type": "stream",
     "text": [
      "t0: 1.0003162277653042 t1: 1.0003162277660167 cost: 1524.0306633067794\n",
      "t0: 1.0005456082987476 t1: 1.0005456082116027 cost: 1523.3186259502284\n",
      "t0: 1.0007376559011956 t1: 1.0007376556963055 cost: 1522.7226056985223\n",
      "t0: 1.0009081258273065 t1: 1.000908125488676 cost: 1522.1936504216753\n",
      "t0: 1.0010643353411934 t1: 1.0010643348582355 cost: 1521.7090255354644\n",
      "t0: 1.0012103636571053 t1: 1.00121036302191 cost: 1521.2560572359826\n",
      "t0: 1.0013487488372708 t1: 1.0013487480434642 cost: 1520.8268601226475\n",
      "t0: 1.0014811909155583 t1: 1.0014811899577443 cost: 1520.4161525591976\n",
      "t0: 1.0016088905864917 t1: 1.0016088894599475 cost: 1520.0202043547426\n",
      "t0: 1.0017327303938877 t1: 1.0017327290943843 cost: 1519.6362738055604\n",
      "t0: 1.0018533794985522 t1: 1.0018533780222425 cost: 1519.2622821794678\n",
      "t0: 1.001971358012507 t1: 1.0019713563558506 cost: 1518.8966138281487\n",
      "t0: 1.0020870784473979 t1: 1.002087076607111 cost: 1518.5379874062785\n",
      "t0: 1.0022008734881123 t1: 1.0022008714611315 cost: 1518.185369578521\n",
      "t0: 1.002313015223222 t1: 1.0023130130066777 cost: 1517.8379152703315\n",
      "t0: 1.0024237288352702 t1: 1.0024237264264666 cost: 1517.4949251321627\n",
      "t0: 1.0025332025824492 t1: 1.0025331999788487 cost: 1517.1558145263725\n",
      "t0: 1.002641595228862 t1: 1.002641592428073 cost: 1516.8200904414618\n",
      "t0: 1.0027490416771243 t1: 1.0027490386768902 cost: 1516.4873339916896\n",
      "t0: 1.0028556573075222 t1: 1.0028556541057139 cost: 1516.1571869354552\n"
     ]
    }
   ],
   "source": [
    "# Начальные точки\n",
    "theta0 = 1\n",
    "theta1 = 1\n",
    "# Коэффициент сохранения\n",
    "gamma = 0.9\n",
    "# Квадрат градиента\n",
    "grad_squared0 = 0\n",
    "grad_squared1 = 0\n",
    "\n",
    "for _ in range(EPOCHS):\n",
    "    # Вычисление производных\n",
    "    dt0 = der_theta0(X, Y, theta0, theta1)\n",
    "    dt1 = der_theta1(X, Y, theta0, theta1)\n",
    "    \n",
    "    # Накопление квадрата градиента\n",
    "    grad_squared0 = gamma * grad_squared0 + (1 - gamma) * dt0 ** 2\n",
    "    grad_squared1 = gamma * grad_squared1 + (1 - gamma) * dt1 ** 2\n",
    "    \n",
    "    # Обновление параметров\n",
    "    theta0 = theta0 - LEARNING_RATE * dt0 / np.sqrt(grad_squared0 + 1e-6)\n",
    "    theta1 = theta1 - LEARNING_RATE * dt1 / np.sqrt(grad_squared1 + 1e-6)\n",
    "    \n",
    "    print(\"t0:\", theta0, \"t1:\", theta1, \"cost:\", cost_function(X, Y, theta0, theta1))"
   ]
  }
 ],
 "metadata": {
  "kernelspec": {
   "display_name": "Python 3",
   "language": "python",
   "name": "python3"
  },
  "language_info": {
   "codemirror_mode": {
    "name": "ipython",
    "version": 3
   },
   "file_extension": ".py",
   "mimetype": "text/x-python",
   "name": "python",
   "nbconvert_exporter": "python",
   "pygments_lexer": "ipython3",
   "version": "3.8.8"
  }
 },
 "nbformat": 4,
 "nbformat_minor": 5
}
