{
 "cells": [
  {
   "cell_type": "markdown",
   "metadata": {},
   "source": [
    "###  Задание 1. Выведет на экран множество уникальных гео-меток всех пользователей"
   ]
  },
  {
   "cell_type": "code",
   "execution_count": 1,
   "metadata": {},
   "outputs": [
    {
     "data": {
      "text/plain": [
       "{15, 35, 54, 98, 119, 213}"
      ]
     },
     "execution_count": 1,
     "metadata": {},
     "output_type": "execute_result"
    }
   ],
   "source": [
    "ids = {'user1': [213, 213, 213, 15, 213], \n",
    "       'user2': [54, 54, 119, 119, 119], \n",
    "       'user3': [213, 98, 98, 35]}\n",
    "geotag = []\n",
    "for value in ids.values():\n",
    "    for element in value:\n",
    "        geotag.append(element)\n",
    "set (geotag)"
   ]
  },
  {
   "cell_type": "markdown",
   "metadata": {},
   "source": [
    "### Задание 2. Выведет на экран распределение количества слов в запросах"
   ]
  },
  {
   "cell_type": "code",
   "execution_count": 2,
   "metadata": {},
   "outputs": [],
   "source": [
    "queries = [\n",
    "    'смотреть сериалы онлайн',\n",
    "    'новости спорта',\n",
    "    'афиша кино',\n",
    "    'курс доллара',\n",
    "    'сериалы этим летом',\n",
    "    'курс по питону',\n",
    "    'сериалы про спорт',\n",
    "]"
   ]
  },
  {
   "cell_type": "code",
   "execution_count": 3,
   "metadata": {},
   "outputs": [
    {
     "name": "stdout",
     "output_type": "stream",
     "text": [
      "Поисковых запросов, содержащих 2  cлов(а): 42.86 %\n",
      "Поисковых запросов, содержащих 3  cлов(а): 57.14 %\n"
     ]
    }
   ],
   "source": [
    "counter = {}\n",
    "for el in queries:\n",
    "    el = el.split(' ')\n",
    "    lenght =len (el)\n",
    "    if lenght in counter:\n",
    "        counter [lenght] += 1\n",
    "    else:\n",
    "        counter [lenght] = 1\n",
    "\n",
    "list_counter = sorted(counter.items()) \n",
    "for item in list_counter:\n",
    "    rate = item [1] / len(queries) * 100\n",
    "    print(f'Поисковых запросов, содержащих {item [0]}  cлов(а): {rate:.2f} %')"
   ]
  },
  {
   "cell_type": "markdown",
   "metadata": {},
   "source": [
    "### Задача 3. Дополнить исходную информацию о затратах и доходе рекламных кампаний показателем ROI"
   ]
  },
  {
   "cell_type": "code",
   "execution_count": 4,
   "metadata": {},
   "outputs": [],
   "source": [
    "results = {\n",
    "    'vk': {'revenue': 103, 'cost': 98},\n",
    "    'yandex': {'revenue': 179, 'cost': 153},\n",
    "    'facebook': {'revenue': 103, 'cost': 110},\n",
    "    'adwords': {'revenue': 35, 'cost': 34},\n",
    "    'twitter': {'revenue': 11, 'cost': 24},\n",
    "}"
   ]
  },
  {
   "cell_type": "code",
   "execution_count": 5,
   "metadata": {
    "scrolled": true
   },
   "outputs": [
    {
     "data": {
      "text/plain": [
       "{'adwords': {'ROI': -54.17, 'cost': 24, 'revenue': 11},\n",
       " 'facebook': {'ROI': -54.17, 'cost': 24, 'revenue': 11},\n",
       " 'twitter': {'ROI': -54.17, 'cost': 24, 'revenue': 11},\n",
       " 'vk': {'ROI': -54.17, 'cost': 24, 'revenue': 11},\n",
       " 'yandex': {'ROI': -54.17, 'cost': 24, 'revenue': 11}}"
      ]
     },
     "execution_count": 5,
     "metadata": {},
     "output_type": "execute_result"
    }
   ],
   "source": [
    "index = {}\n",
    "for key in results:\n",
    "    for value in results.values():\n",
    "        ROI = ((value ['revenue'] / value ['cost'] - 1) * 100)\n",
    "        index ['ROI'] = round(ROI,2)\n",
    "        index ['cost'] = value ['cost']\n",
    "        index ['revenue'] = value ['revenue']\n",
    "    results.update({key: index})\n",
    "dict(sorted(results.items()))"
   ]
  },
  {
   "cell_type": "markdown",
   "metadata": {},
   "source": [
    "### Задача 4.Написать программу, которая возвращает название канала с максимальным объемом продаж"
   ]
  },
  {
   "cell_type": "code",
   "execution_count": 6,
   "metadata": {},
   "outputs": [],
   "source": [
    "stats = {'facebook': 55, 'yandex': 115, 'vk': 120, 'google': 99, 'email': 42, 'ok': 98}"
   ]
  },
  {
   "cell_type": "code",
   "execution_count": 7,
   "metadata": {},
   "outputs": [
    {
     "data": {
      "text/plain": [
       "{}"
      ]
     },
     "execution_count": 7,
     "metadata": {},
     "output_type": "execute_result"
    }
   ],
   "source": [
    "max_volume = {}\n",
    "for companies, sales_vol in stats.items():\n",
    "    for key, value in max_volume.items():\n",
    "        if sales_vol > value:\n",
    "            #max_volume.clear\n",
    "            max_volume.update({companies: sales_vol})\n",
    "        elif sales_vol in value:\n",
    "            max_volume[companies] = sales_vol\n",
    "        else:\n",
    "            pass\n",
    "max_volume"
   ]
  },
  {
   "cell_type": "code",
   "execution_count": 8,
   "metadata": {},
   "outputs": [
    {
     "name": "stdout",
     "output_type": "stream",
     "text": [
      "Максимальный объем продаж на рекламном канале: vk\n"
     ]
    }
   ],
   "source": [
    "companies = stats.keys()\n",
    "sales_volume = stats.values()\n",
    "sorted_values = sorted(list(zip(sales_volume, companies)), reverse = True)\n",
    "print('Максимальный объем продаж на рекламном канале:', sorted_values[0][1])"
   ]
  },
  {
   "cell_type": "code",
   "execution_count": null,
   "metadata": {},
   "outputs": [],
   "source": [
    "\n"
   ]
  },
  {
   "cell_type": "markdown",
   "metadata": {},
   "source": [
    "### Задача 5"
   ]
  },
  {
   "cell_type": "code",
   "execution_count": 9,
   "metadata": {},
   "outputs": [],
   "source": [
    "my_list = ['2018-01-01', 'yandex', 'cpc', 100]"
   ]
  },
  {
   "cell_type": "code",
   "execution_count": 10,
   "metadata": {},
   "outputs": [
    {
     "data": {
      "text/plain": [
       "{'2018-01-01': {'yandex': {'cpc': 100}}}"
      ]
     },
     "execution_count": 10,
     "metadata": {},
     "output_type": "execute_result"
    }
   ],
   "source": [
    "index = len(my_list)\n",
    "my_dict = dict({my_list[index - 2]: my_list[index - 1]})\n",
    "index -= 3\n",
    "while index >= 0:\n",
    "    my_dict = dict({my_list[index]: my_dict})\n",
    "    index -= 1\n",
    "\n",
    "my_dict"
   ]
  },
  {
   "cell_type": "markdown",
   "metadata": {},
   "source": [
    "### Задача 6.  Написать программу, которая будет запрашивать у пользователя количество порций для приготовления блюд и отображать информацию о суммарном количестве требуемых ингредиентов в указанном виде"
   ]
  },
  {
   "cell_type": "code",
   "execution_count": 11,
   "metadata": {},
   "outputs": [],
   "source": [
    "cook_book = {\n",
    "  'салат': [\n",
    "     {'ingridient_name': 'сыр', 'quantity': 50, 'measure': 'гр'},\n",
    "     {'ingridient_name': 'томаты', 'quantity': 2, 'measure': 'шт'},\n",
    "     {'ingridient_name': 'огурцы', 'quantity': 20, 'measure': 'гр'},\n",
    "     {'ingridient_name': 'маслины', 'quantity': 10, 'measure': 'гр'},\n",
    "     {'ingridient_name': 'оливковое масло', 'quantity': 20, 'measure': 'мл'},\n",
    "     {'ingridient_name': 'салат', 'quantity': 10, 'measure': 'гр'},\n",
    "     {'ingridient_name': 'перец', 'quantity': 20, 'measure': 'гр'}\n",
    "    ],\n",
    "  'пицца': [\n",
    "     {'ingridient_name': 'сыр', 'quantity': 20, 'measure': 'гр'},\n",
    "     {'ingridient_name': 'колбаса', 'quantity': 30, 'measure': 'гр'},\n",
    "     {'ingridient_name': 'бекон', 'quantity': 30, 'measure': 'гр'},\n",
    "     {'ingridient_name': 'оливки', 'quantity': 10, 'measure': 'гр'},\n",
    "     {'ingridient_name': 'томаты', 'quantity': 20, 'measure': 'гр'},\n",
    "     {'ingridient_name': 'тесто', 'quantity': 100, 'measure': 'гр'},   \n",
    "    ],\n",
    "  'лимонад': [\n",
    "     {'ingridient_name': 'лимон', 'quantity': 1, 'measure': 'шт'},\n",
    "     {'ingridient_name': 'вода', 'quantity': 200, 'measure': 'мл'},\n",
    "     {'ingridient_name': 'сахар', 'quantity': 10, 'measure': 'гр'},\n",
    "     {'ingridient_name': 'лайм', 'quantity': 20, 'measure': 'гр'},    \n",
    "    ]\n",
    "}"
   ]
  },
  {
   "cell_type": "code",
   "execution_count": 13,
   "metadata": {},
   "outputs": [
    {
     "name": "stdout",
     "output_type": "stream",
     "text": [
      "Введите количество порций:\n",
      "3\n",
      "Результат:\n",
      "\n",
      "Сыр : 210 гр\n",
      "Томаты : 6 шт\n",
      "Огурцы : 60 гр\n",
      "Маслины : 30 гр\n",
      "Оливковое масло : 60 мл\n",
      "Салат : 30 гр\n",
      "Перец : 60 гр\n",
      "Колбаса : 90 гр\n",
      "Бекон : 90 гр\n",
      "Оливки : 30 гр\n",
      "Томаты : 60 гр\n",
      "Тесто : 300 гр\n",
      "Лимон : 3 шт\n",
      "Вода : 600 мл\n",
      "Сахар : 30 гр\n",
      "Лайм : 60 гр\n"
     ]
    }
   ],
   "source": [
    "print('Введите количество порций:')\n",
    "persons = input()\n",
    "print('Результат:')\n",
    "print()\n",
    "\n",
    "ingredients = {}\n",
    "\n",
    "for dish in cook_book.values():\n",
    "    for dictionary in dish:\n",
    "        ingredient = dictionary['ingridient_name'] #введение переменных для улучшения читаемости кода\n",
    "        quantity = dictionary['quantity']\n",
    "        measure = dictionary['measure']\n",
    "        if ingredient not in ingredients.keys():           #проверка на отсутствие ингрилиента в списке\n",
    "            ingredients[ingredient] = quantity, measure\n",
    "        elif ingredient in ingredients.keys() and measure == ingredients[ingredient][1]: #проверка на наличие в словаре и ед.измереня\n",
    "            ingredients[ingredient] = ingredients[ingredient][0] +  quantity,   measure\n",
    "        elif ingredient in ingredients.keys() and measure != ingredients[ingredient][1]: #проверка на наличие в словаре и отличие ез. измерения\n",
    "            ingredients[ingredient.capitalize()] = quantity, measure\n",
    "\n",
    "for k, v in ingredients.items():\n",
    "    print (k.capitalize(), ':', v[0] * int(persons), v[1])             \n"
   ]
  }
 ],
 "metadata": {
  "kernelspec": {
   "display_name": "Python 3",
   "language": "python",
   "name": "python3"
  },
  "language_info": {
   "codemirror_mode": {
    "name": "ipython",
    "version": 3
   },
   "file_extension": ".py",
   "mimetype": "text/x-python",
   "name": "python",
   "nbconvert_exporter": "python",
   "pygments_lexer": "ipython3",
   "version": "3.8.5"
  }
 },
 "nbformat": 4,
 "nbformat_minor": 4
}
