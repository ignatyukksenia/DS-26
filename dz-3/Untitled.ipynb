{
 "cells": [
  {
   "cell_type": "markdown",
   "metadata": {},
   "source": [
    "###  Задание 1. Выведет на экран множество уникальных гео-меток всех пользователей"
   ]
  },
  {
   "cell_type": "code",
   "execution_count": 1,
   "metadata": {},
   "outputs": [],
   "source": [
    "ids = {'user1': [213, 213, 213, 15, 213], \n",
    "       'user2': [54, 54, 119, 119, 119], \n",
    "       'user3': [213, 98, 98, 35]}\n",
    "geotag = []\n",
    "for value in ids.values():\n",
    "    for element in value:\n",
    "        geotag.append(element)\n",
    "set (geotag)"
   ]
  },
  {
   "cell_type": "markdown",
   "metadata": {},
   "source": [
    "### Задание 2. Выведет на экран распределение количества слов в запросах"
   ]
  },
  {
   "cell_type": "code",
   "execution_count": 2,
   "metadata": {},
   "outputs": [],
   "source": [
    "queries = [\n",
    "    'смотреть сериалы онлайн',\n",
    "    'новости спорта',\n",
    "    'афиша кино',\n",
    "    'курс доллара',\n",
    "    'сериалы этим летом',\n",
    "    'курс по питону',\n",
    "    'сериалы про спорт',\n",
    "]"
   ]
  },
  {
   "cell_type": "code",
   "execution_count": 3,
   "metadata": {},
   "outputs": [],
   "source": [
    "counter = {}\n",
    "for el in queries:\n",
    "    el = el.split(' ')\n",
    "    lenght =len (el)\n",
    "    if lenght in counter:\n",
    "        counter [lenght] += 1\n",
    "    else:\n",
    "        counter [lenght] = 1\n",
    "\n",
    "list_counter = sorted(counter.items()) \n",
    "for item in list_counter:\n",
    "    rate = item [1] / len(queries) * 100\n",
    "    print(f'Поисковых запросов, содержащих {item [0]}  cлов(а): {rate:.2f} %')"
   ]
  },
  {
   "cell_type": "markdown",
   "metadata": {},
   "source": [
    "### Задача 3. Дополнить исходную информацию о затратах и доходе рекламных кампаний показателем ROI"
   ]
  },
  {
   "cell_type": "code",
   "execution_count": 4,
   "metadata": {},
   "outputs": [],
   "source": [
    "results = {\n",
    "    'vk': {'revenue': 103, 'cost': 98},\n",
    "    'yandex': {'revenue': 179, 'cost': 153},\n",
    "    'facebook': {'revenue': 103, 'cost': 110},\n",
    "    'adwords': {'revenue': 35, 'cost': 34},\n",
    "    'twitter': {'revenue': 11, 'cost': 24},\n",
    "}"
   ]
  },
  {
   "cell_type": "code",
   "execution_count": 5,
   "metadata": {
    "scrolled": true
   },
   "outputs": [],
   "source": [
    "companies = results.keys()\n",
    "index = {}\n",
    "for item in results.values():\n",
    "    ROI = ((item ['revenue'] / item ['cost'] - 1) * 100)\n",
    "    index ['ROI'] = round(ROI,2)\n",
    "    index ['cost'] = item ['cost']\n",
    "    index ['revenue'] = item ['revenue']\n",
    "    print(index)"
   ]
  },
  {
   "cell_type": "markdown",
   "metadata": {},
   "source": [
    "### Задача 4.Написать программу, которая возвращает название канала с максимальным объемом продаж"
   ]
  },
  {
   "cell_type": "code",
   "execution_count": 6,
   "metadata": {},
   "outputs": [],
   "source": [
    "stats = {'facebook': 55, 'yandex': 115, 'vk': 120, 'google': 99, 'email': 42, 'ok': 98}"
   ]
  },
  {
   "cell_type": "code",
   "execution_count": 7,
   "metadata": {},
   "outputs": [],
   "source": [
    "max_sales_volumе = {}\n",
    "for sales_volumе in stats.values():\n",
    "    if sales_volumе not in max_sales_volumе.values() or sales_volumе == max_sales_volumе.values():\n",
    "        max_sales_volumе [stats.keys()] = stats.values()\n",
    "    elif sales_volumе > max_sales_volumе.values():\n",
    "        \n",
    "    else:\n",
    "        pass"
   ]
  },
  {
   "cell_type": "code",
   "execution_count": 2,
   "metadata": {},
   "outputs": [],
   "source": [
    "my_list = ['2018-01-01', 'yandex', 'cpc', 100]"
   ]
  },
  {
   "cell_type": "code",
   "execution_count": 7,
   "metadata": {},
   "outputs": [
    {
     "data": {
      "text/plain": [
       "{'2018-01-01': {'yandex': {'cpc': 100}}}"
      ]
     },
     "execution_count": 7,
     "metadata": {},
     "output_type": "execute_result"
    }
   ],
   "source": [
    "index = len(my_list)\n",
    "my_dict = dict({my_list[index - 2]: my_list[index - 1]})\n",
    "index -= 3\n",
    "while index >= 0:\n",
    "    my_dict = dict({my_list[index]: my_dict})\n",
    "    index -= 1\n",
    "\n",
    "my_dict"
   ]
  },
  {
   "cell_type": "code",
   "execution_count": null,
   "metadata": {},
   "outputs": [],
   "source": []
  }
 ],
 "metadata": {
  "kernelspec": {
   "display_name": "Python 3",
   "language": "python",
   "name": "python3"
  },
  "language_info": {
   "codemirror_mode": {
    "name": "ipython",
    "version": 3
   },
   "file_extension": ".py",
   "mimetype": "text/x-python",
   "name": "python",
   "nbconvert_exporter": "python",
   "pygments_lexer": "ipython3",
   "version": "3.8.5"
  }
 },
 "nbformat": 4,
 "nbformat_minor": 4
}
