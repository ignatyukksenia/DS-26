{
 "cells": [
  {
   "cell_type": "markdown",
   "metadata": {},
   "source": [
    "###  Задание 1. Вывести на экран множество уникальных гео-меток всех пользователей"
   ]
  },
  {
   "cell_type": "code",
   "execution_count": null,
   "metadata": {},
   "outputs": [],
   "source": [
    "ids = {'user1': [213, 213, 213, 15, 213], \n",
    "       'user2': [54, 54, 119, 119, 119], \n",
    "       'user3': [213, 98, 98, 35]}\n",
    "geotag = []\n",
    "for value in ids.values():\n",
    "    for element in value:\n",
    "        geotag.append(element)\n",
    "set (geotag)"
   ]
  },
  {
   "cell_type": "markdown",
   "metadata": {},
   "source": [
    "### Задание 2. Вывести на экран распределение количества слов в запросах"
   ]
  },
  {
   "cell_type": "code",
   "execution_count": null,
   "metadata": {},
   "outputs": [],
   "source": [
    "queries = [\n",
    "    'смотреть сериалы онлайн',\n",
    "    'новости спорта',\n",
    "    'афиша кино',\n",
    "    'курс доллара',\n",
    "    'сериалы этим летом',\n",
    "    'курс по питону',\n",
    "    'сериалы про спорт',\n",
    "]"
   ]
  },
  {
   "cell_type": "code",
   "execution_count": null,
   "metadata": {},
   "outputs": [],
   "source": [
    "counter = {}\n",
    "for el in queries:\n",
    "    el = el.split(' ')\n",
    "    lenght =len (el)\n",
    "    if lenght in counter:\n",
    "        counter [lenght] += 1\n",
    "    else:\n",
    "        counter [lenght] = 1\n",
    "\n",
    "list_counter = sorted(counter.items()) \n",
    "for item in list_counter:\n",
    "    rate = item [1] / len(queries) * 100\n",
    "    print(f'Поисковых запросов, содержащих {item [0]}  cлов(а): {rate:.2f} %')"
   ]
  },
  {
   "cell_type": "markdown",
   "metadata": {},
   "source": [
    "### Задача 5. Составить словарь такого уровня вложенности, какова длина исхондого списка"
   ]
  },
  {
   "cell_type": "code",
   "execution_count": null,
   "metadata": {},
   "outputs": [],
   "source": [
    "my_list = ['2018-01-01', 'yandex', 'cpc', 100]"
   ]
  },
  {
   "cell_type": "code",
   "execution_count": null,
   "metadata": {},
   "outputs": [],
   "source": [
    "index = len(my_list)\n",
    "my_dict = dict({my_list[index - 2]: my_list[index - 1]})\n",
    "index -= 3\n",
    "while index >= 0:\n",
    "    my_dict = dict({my_list[index]: my_dict})\n",
    "    index -= 1\n",
    "\n",
    "my_dict"
   ]
  }
 ],
 "metadata": {
  "kernelspec": {
   "display_name": "Python 3",
   "language": "python",
   "name": "python3"
  },
  "language_info": {
   "codemirror_mode": {
    "name": "ipython",
    "version": 3
   },
   "file_extension": ".py",
   "mimetype": "text/x-python",
   "name": "python",
   "nbconvert_exporter": "python",
   "pygments_lexer": "ipython3",
   "version": "3.8.5"
  }
 },
 "nbformat": 4,
 "nbformat_minor": 4
}
