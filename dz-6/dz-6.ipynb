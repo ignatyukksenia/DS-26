{
 "cells": [
  {
   "cell_type": "markdown",
   "metadata": {},
   "source": [
    "### Задание 1. Написать формат указанной даты для перевода в объект datetime."
   ]
  },
  {
   "cell_type": "code",
   "execution_count": null,
   "metadata": {},
   "outputs": [],
   "source": [
    "# The Moscow Times - Wednesday, October 2, 2002     формат: %A, %B %d, %Y\n",
    "# The Guardian - Friday, 11.10.13                   формат: %A, %d.%m.%y\n",
    "# Daily News - Thursday, 18 August 1977             формат: %A,%d %B %Y"
   ]
  },
  {
   "cell_type": "markdown",
   "metadata": {},
   "source": [
    "### Задание 2. Написать функцию, которая проверяет даты на корректность. Т. е. для каждой даты возвращает True (дата корректна) или False (некорректная дата)."
   ]
  },
  {
   "cell_type": "code",
   "execution_count": null,
   "metadata": {},
   "outputs": [],
   "source": [
    "stream = ['2018-04-02', '2018-02-29', '2018-19-02']"
   ]
  },
  {
   "cell_type": "code",
   "execution_count": null,
   "metadata": {},
   "outputs": [],
   "source": [
    "calendar = {'01':'31', '02':'29', '03':'31', '04':'30', '05':'31', '06':'30', '07':'31',\n",
    "            '08':'31', '09':'30', '10':'31', '11':'30', '12':'31'}\n",
    "\n",
    "def date_cheking(stream):\n",
    "    for el in stream:\n",
    "        year = el[0:4]\n",
    "        mounth = el[5:7]\n",
    "        day = el[8:]\n",
    "        if mounth == '02' and day == '29':                                               #Проверка на високосность\n",
    "            if (int(year) % 4 == 0) and (int(year) % 100 != 0) or (int(year) % 400 == 0):\n",
    "                print(f'{el} - True')\n",
    "            else:\n",
    "                print(f'{el} - False')\n",
    "        else:\n",
    "            if mounth in calendar.keys():                                  # Проверка корректности номера месяца и дня\n",
    "                if int(day) <= int(calendar[mounth]):\n",
    "                    print(f'{el} - True')\n",
    "            else:\n",
    "                print(f'{el} - False')\n",
    "\n",
    "date_cheking(stream)"
   ]
  },
  {
   "cell_type": "markdown",
   "metadata": {},
   "source": [
    "### Задание 3. Написать функцию date_range, которая возвращает список дат за период от start_date до end_date. Даты должны вводиться в формате YYYY-MM-DD. В случае неверного формата или при start_date > end_date должен возвращаться пустой список."
   ]
  },
  {
   "cell_type": "code",
   "execution_count": null,
   "metadata": {},
   "outputs": [],
   "source": [
    "from datetime import datetime\n",
    "from datetime import timedelta"
   ]
  },
  {
   "cell_type": "code",
   "execution_count": null,
   "metadata": {},
   "outputs": [],
   "source": [
    "start_date = '2018-02-29'\n",
    "end_date = '2018-03-06'\n",
    "dates_sequence = []\n",
    "try:\n",
    "    start_date_dt = datetime.strptime(start_date, '%Y-%m-%d')  # Перевод дат в объект datetime\n",
    "    end_date_dt = datetime.strptime(end_date, '%Y-%m-%d')\n",
    "    if start_date_dt < end_date_dt:                            # Проверка хронологического соответствия дат\n",
    "        while start_date_dt <= end_date_dt:                    # Наполнение списка хронологической последоватьльностью дат\n",
    "            dates_sequence.append(start_date_dt.strftime('%Y-%m-%d'))\n",
    "            start_date_dt += timedelta(days = 1)\n",
    "    print(dates_sequence)\n",
    "except:                                                        # Дествие в случае ошибки:\n",
    "    dates_sequence.clear()                                     # очистить список и вывести пустой список\n",
    "    print(dates_sequence)\n"
   ]
  },
  {
   "cell_type": "markdown",
   "metadata": {},
   "source": [
    "### Задание 4 (бонусное)\n",
    "Ваш коллега прислал код функции:\n",
    "\n",
    "DEFAULT_USER_COUNT = 3\n",
    "\n",
    "def delete_and_return_last_user(region, default_list=[‘A100’, ‘A101’, ‘A102’]):\n",
    "\n",
    "\"\"\"\n",
    "Удаляет из списка default_list последнего пользователя\n",
    "и возвращает ID нового последнего пользователя.\n",
    "\"\"\"\n",
    "\n",
    "   element_to_delete = default_list[-1]\n",
    "   default_list.remove(element_to_delete)\n",
    "\n",
    "1\n",
    "   return default_list[DEFAULT_USER_COUNT-2]\n",
    "При однократном вызове этой функции все работает корректно:\n",
    "delete_and_return_last_user(1)\n",
    "‘A101’\n",
    "\n",
    "Однако, при повторном вызове получается ошибка IndexError: list index out of range.\n",
    "\n",
    "Задание:\n",
    "\n",
    "Что значит ошибка list index out of range? \n",
    "Почему при первом запуске функция работает корректно, а при втором - нет?"
   ]
  },
  {
   "cell_type": "markdown",
   "metadata": {},
   "source": [
    "### Ответ:\n",
    "Ошибка list index out of range  означает, что программа пытается обратиться к индексу списка, которого не существует. Т.е. в списке недостаточно элементов.\n",
    "\n",
    "При первом запуске функция работает корректно, потому что длинна списка достаточная. После первого выполнения программы в объекте default_list остается два элемента. После второго выполнения – только один элемент. \n",
    "\n",
    "Строка\n",
    "\n",
    "\"return default_list[DEFAULT_USER_COUNT-2]\"\n",
    "\n",
    "пытается обратиться к элементу с индексом 1, который уже удален из списка. Т.о. образом возникает ошибка.\n"
   ]
  }
 ],
 "metadata": {
  "kernelspec": {
   "display_name": "Python 3",
   "language": "python",
   "name": "python3"
  },
  "language_info": {
   "codemirror_mode": {
    "name": "ipython",
    "version": 3
   },
   "file_extension": ".py",
   "mimetype": "text/x-python",
   "name": "python",
   "nbconvert_exporter": "python",
   "pygments_lexer": "ipython3",
   "version": "3.8.5"
  }
 },
 "nbformat": 4,
 "nbformat_minor": 4
}
