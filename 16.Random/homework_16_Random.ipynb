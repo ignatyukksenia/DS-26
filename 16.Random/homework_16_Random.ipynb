{
 "cells": [
  {
   "cell_type": "markdown",
   "metadata": {},
   "source": [
    "### Задание\n",
    "Смоделировать игру против лотерейного автомата типа “777”. Игрок платит 1 руб., после чего выпадает случайное целое число, равномерно распределенное от 0 до 999. При некоторых значениях числа игрок получает выигрыш.\n",
    "\n",
    "Выгодна ли игра игроку?\n",
    "\n",
    "Сколько в среднем приобретает или теряет игрок за одну игру?\n",
    "\n",
    "Дополнительное задание повышенной сложности. Теоретически рассчитать средний выигрыш (проигрыш) и сравнить с результатами моделирования."
   ]
  },
  {
   "cell_type": "code",
   "execution_count": 2,
   "metadata": {},
   "outputs": [],
   "source": [
    "import numpy as np"
   ]
  },
  {
   "cell_type": "code",
   "execution_count": 5,
   "metadata": {},
   "outputs": [],
   "source": [
    "benefit = {777: 200,\n",
    "           999: 100,\n",
    "           555: 50,\n",
    "           333: 15,\n",
    "           111: 10,\n",
    "           77: 5,\n",
    "           7: 3,\n",
    "           00: 2,\n",
    "           '**0': 1,\n",
    "           'others': -1}"
   ]
  },
  {
   "cell_type": "code",
   "execution_count": 6,
   "metadata": {},
   "outputs": [
    {
     "name": "stdout",
     "output_type": "stream",
     "text": [
      "Частота выигрыша: 3.41%\n",
      "Средний выигрыш: 0.012403 руб.\n"
     ]
    }
   ],
   "source": [
    "# Определение частоты выигрышей методом Монте-Карло\n",
    "\n",
    "trial = 1000000\n",
    "success = 0\n",
    "X = 0                           # Среднее значение выигрыша, проигрыша\n",
    "\n",
    "np.random.seed(4)\n",
    "for n in range(trial):\n",
    "    i = np.random.randint(0, 1000)\n",
    "    if i in benefit.keys():\n",
    "        success += 1\n",
    "        X += benefit[i]\n",
    "\n",
    "    elif i%100 in benefit.keys():\n",
    "        success += 1\n",
    "        if i%100 == 77:\n",
    "            X += benefit[77]\n",
    "        elif i%100 == 7:\n",
    "            X += benefit[7]\n",
    "        elif i%100 == 0:\n",
    "            X += benefit[0]\n",
    "    elif i%10 in benefit.keys():\n",
    "        if i%10 == 7:\n",
    "            X += benefit[7]\n",
    "        elif i%10 == 0:\n",
    "            X += benefit['**0']\n",
    "\n",
    "    else:\n",
    "        X += benefit['others']\n",
    "\n",
    "\n",
    "print(f'Частота выигрыша: {round(success/trial*100, 2)}%')\n",
    "print(f'Средний выигрыш: {X/trial} руб.')\n",
    "\n",
    "# Среднее значение колеблется: от -0,003 руб. проигыша и доходит до 0.012 руб выигрыша.\n",
    "# При этом частота более стабильна - 3,4%."
   ]
  },
  {
   "cell_type": "markdown",
   "metadata": {},
   "source": [
    "### Теоретический средний выигрыш"
   ]
  },
  {
   "cell_type": "code",
   "execution_count": 7,
   "metadata": {},
   "outputs": [
    {
     "data": {
      "text/plain": [
       "{777: 0.001,\n",
       " 999: 0.001,\n",
       " 555: 0.001,\n",
       " 333: 0.001,\n",
       " 111: 0.001,\n",
       " 77: 0.009,\n",
       " 7: 0.09,\n",
       " 0: 0.01,\n",
       " '**0': 0.09,\n",
       " 'others': 0.796}"
      ]
     },
     "execution_count": 7,
     "metadata": {},
     "output_type": "execute_result"
    }
   ],
   "source": [
    "# Подсчет количества возможных выпадений каждой комбинации\n",
    "\n",
    "counter = {777: 0,\n",
    "           999: 0,\n",
    "           555: 0,\n",
    "           333: 0,\n",
    "           111: 0,\n",
    "           77: 0,\n",
    "           7: 0,\n",
    "           00: 0,\n",
    "           '**0': 0,\n",
    "           'others': 0}\n",
    "\n",
    "for i in range(1000):\n",
    "    rem100 = i%100\n",
    "    rem10 = i%10\n",
    "    if i in benefit.keys():\n",
    "        counter[i] = 1\n",
    "    elif i%100 in benefit.keys():\n",
    "        counter[rem100] += 1\n",
    "    elif i%10 in benefit.keys():\n",
    "        if i%10 > 0:\n",
    "            counter[rem10] += 1\n",
    "        else:\n",
    "            counter['**0'] += 1\n",
    "    else:\n",
    "        counter['others'] += 1\n",
    "\n",
    "# Расчет вероятности для каждого вохможного исхода\n",
    "\n",
    "probability = {k: (v/1000) for k, v in counter.items()}\n",
    "probability"
   ]
  },
  {
   "cell_type": "code",
   "execution_count": 8,
   "metadata": {},
   "outputs": [
    {
     "name": "stdout",
     "output_type": "stream",
     "text": [
      "Теоретический средний выигрыш: 0.004 руб.\n"
     ]
    }
   ],
   "source": [
    "# Среднее значение выигрыша\n",
    "\n",
    "X = 0\n",
    "benefits = []\n",
    "probabilities = []\n",
    "[benefits.append(v) for k,v in benefit.items()]\n",
    "[probabilities.append(v) for k, v in probability.items()]\n",
    "union_dict = dict(zip(benefits, probabilities))\n",
    "for k,v in union_dict.items():\n",
    "    X += k * v\n",
    "print(f'Теоретический средний выигрыш: {round(X, 3)} руб.')"
   ]
  }
 ],
 "metadata": {
  "kernelspec": {
   "display_name": "Python 3",
   "language": "python",
   "name": "python3"
  },
  "language_info": {
   "codemirror_mode": {
    "name": "ipython",
    "version": 3
   },
   "file_extension": ".py",
   "mimetype": "text/x-python",
   "name": "python",
   "nbconvert_exporter": "python",
   "pygments_lexer": "ipython3",
   "version": "3.8.5"
  }
 },
 "nbformat": 4,
 "nbformat_minor": 4
}
