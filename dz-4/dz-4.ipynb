{
 "cells": [
  {
   "cell_type": "code",
   "execution_count": 1,
   "metadata": {},
   "outputs": [],
   "source": [
    "documents = [\n",
    " {'type': 'passport', 'number': '2207 876234', 'name': 'Василий Гупкин'},\n",
    " {'type': 'invoice', 'number': '11-2', 'name': 'Геннадий Покемонов'},\n",
    " {'type': 'insurance', 'number': '10006', 'name': 'Аристарх Павлов'}\n",
    "]\n",
    "\n",
    "directories = {\n",
    " '1': ['2207 876234', '11-2'],\n",
    " '2': ['10006'],\n",
    " '3': []\n",
    "}"
   ]
  },
  {
   "cell_type": "code",
   "execution_count": 2,
   "metadata": {},
   "outputs": [
    {
     "name": "stdout",
     "output_type": "stream",
     "text": [
      "Введите команду:\n",
      "q\n"
     ]
    }
   ],
   "source": [
    "def main():\n",
    "    \"\"\"\n",
    "    p - поиск владельца документа по номеру документа\n",
    "    s - поиск места хранения документа по номеру документа\n",
    "    l - запрос полной информации по всем документам\n",
    "    as - добавление полки хранения\n",
    "    ds - удаление пустой полки хранения\n",
    "    ad - добавление нового документа в данные\n",
    "    d - удаление документа из данных\n",
    "    m - перемещение документа по полкам хранения\n",
    "    \"\"\" \n",
    "    while True:\n",
    "        print('Введите команду:')\n",
    "        command = input()\n",
    "        if command == 'p': document_owner()\n",
    "        elif command == 's': storage_location()\n",
    "        elif command == 'l': all_documents()\n",
    "        elif command == 'ads': add_shelf()\n",
    "        elif command == 'ds': del_empty_shelf()\n",
    "        elif command == 'ad': add_document()\n",
    "        elif command == 'd': del_document()\n",
    "        elif command == 'm': move_document()\n",
    "        elif command == 'q': break\n",
    "\n",
    "main()"
   ]
  },
  {
   "cell_type": "code",
   "execution_count": 3,
   "metadata": {},
   "outputs": [],
   "source": [
    "def document_owner():\n",
    "    print('Введите номер документа:')            # Запрос номера документа\n",
    "    user_input = input() \n",
    "    if document_checking(user_input):            # Проверка наличия документа в хранении\n",
    "        for string in documents:                 # Поиск владельца документа\n",
    "            if user_input == string['number']:\n",
    "                print('Результат:')\n",
    "                print(f\"Владелец документа: {string['name']}\")"
   ]
  },
  {
   "cell_type": "code",
   "execution_count": 4,
   "metadata": {},
   "outputs": [],
   "source": [
    "def storage_location():\n",
    "    print('Введите номер документа:')            # Запрос номера документа\n",
    "    user_input = input()\n",
    "    if document_checking(user_input):            # Проверка наличия документа в хранении\n",
    "        for k, v in directories.items():         # Поиск места хранения документа\n",
    "            if user_input in v:\n",
    "                print('Результат:')\n",
    "                print(f\"Документ хранится на полке: {k}\")"
   ]
  },
  {
   "cell_type": "code",
   "execution_count": 5,
   "metadata": {},
   "outputs": [],
   "source": [
    "def all_documents():\n",
    "    print('Результат:')\n",
    "    for string in documents:\n",
    "        for k, v in directories.items():\n",
    "            if string['number'] in v:\n",
    "                print(f\"№: {string['number']}, тип: {string['type']}, владелец: {string['name']}, полка хранения: {k}\")"
   ]
  },
  {
   "cell_type": "code",
   "execution_count": 6,
   "metadata": {},
   "outputs": [],
   "source": [
    "def add_shelf():\n",
    "    print('Введите номер полки:')                            # Запрос номера полки\n",
    "    user_input = input()\n",
    "    if shelf_checking(user_input):                           # Проверка наличия полки\n",
    "        directories.update(dict.fromkeys([user_input]))    # Добавление полки\n",
    "        print('Результат:')\n",
    "        print(f\"Полка добавлена. Текущий перечень полок: {','.join(directories.keys())}\")"
   ]
  },
  {
   "cell_type": "code",
   "execution_count": 7,
   "metadata": {
    "scrolled": true
   },
   "outputs": [],
   "source": [
    "def del_empty_shelf():\n",
    "    print('Введите номер полки:')                            # Запрос номера полки\n",
    "    user_input = input()\n",
    "    if shelf_checking(user_input):        \n",
    "        print('Результат:')\n",
    "        print(f\"Такой полки не существует. Текущий перечень полок: {','.join(list_shelfs)}\")\n",
    "    elif len(directories[user_input]) > 0:\n",
    "        print('Результат:')\n",
    "        print(f\"На полке есть документа, удалите их перед удалением полки. Текущий перечень полок: {','.join(list_shelfs)}\")\n",
    "    else:\n",
    "        del(directories[user_input])"
   ]
  },
  {
   "cell_type": "code",
   "execution_count": 8,
   "metadata": {},
   "outputs": [],
   "source": [
    "def document_checking(input_):   #Проверка наличия документа в хранении\n",
    "    numbers = set()\n",
    "    for dictionary in documents:\n",
    "        numbers.add(dictionary['number'])\n",
    "    if input_ in numbers:\n",
    "        return True\n",
    "\n",
    "    print('Результат:')\n",
    "    print('Документ не найден в базе')"
   ]
  },
  {
   "cell_type": "code",
   "execution_count": 9,
   "metadata": {},
   "outputs": [],
   "source": [
    "def shelf_checking(input_):   #Проверка наличия полки\n",
    "    list_shelfs = set()\n",
    "    for k in directories:\n",
    "        list_shelfs.update(k)\n",
    "    if input_ not in list_shelfs:\n",
    "        return True\n",
    "    \n",
    "    print('Результат:')\n",
    "    print(f\"Такая полка уже существует. Текущий перечень полок: {','.join(list_shelfs)}\")"
   ]
  }
 ],
 "metadata": {
  "kernelspec": {
   "display_name": "Python 3",
   "language": "python",
   "name": "python3"
  },
  "language_info": {
   "codemirror_mode": {
    "name": "ipython",
    "version": 3
   },
   "file_extension": ".py",
   "mimetype": "text/x-python",
   "name": "python",
   "nbconvert_exporter": "python",
   "pygments_lexer": "ipython3",
   "version": "3.8.5"
  }
 },
 "nbformat": 4,
 "nbformat_minor": 4
}
