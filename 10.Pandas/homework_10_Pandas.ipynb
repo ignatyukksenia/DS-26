{
 "cells": [
  {
   "cell_type": "markdown",
   "metadata": {},
   "source": [
    "### Задание 1\n",
    "Скачать с сайта https://grouplens.org/datasets/movielens/ датасет любого размера. Определить какому фильму было выставлено больше всего оценок 5.0."
   ]
  },
  {
   "cell_type": "code",
   "execution_count": 2,
   "metadata": {},
   "outputs": [],
   "source": [
    "import pandas as pd"
   ]
  },
  {
   "cell_type": "code",
   "execution_count": 3,
   "metadata": {},
   "outputs": [
    {
     "data": {
      "text/html": [
       "<div>\n",
       "<style scoped>\n",
       "    .dataframe tbody tr th:only-of-type {\n",
       "        vertical-align: middle;\n",
       "    }\n",
       "\n",
       "    .dataframe tbody tr th {\n",
       "        vertical-align: top;\n",
       "    }\n",
       "\n",
       "    .dataframe thead th {\n",
       "        text-align: right;\n",
       "    }\n",
       "</style>\n",
       "<table border=\"1\" class=\"dataframe\">\n",
       "  <thead>\n",
       "    <tr style=\"text-align: right;\">\n",
       "      <th></th>\n",
       "      <th>movieId</th>\n",
       "      <th>userId</th>\n",
       "      <th>rating</th>\n",
       "      <th>timestamp</th>\n",
       "      <th>title</th>\n",
       "      <th>genres</th>\n",
       "    </tr>\n",
       "  </thead>\n",
       "  <tbody>\n",
       "    <tr>\n",
       "      <th>315</th>\n",
       "      <td>318</td>\n",
       "      <td>48762</td>\n",
       "      <td>48762</td>\n",
       "      <td>48762</td>\n",
       "      <td>Shawshank Redemption, The (1994)</td>\n",
       "      <td>Crime|Drama</td>\n",
       "    </tr>\n",
       "    <tr>\n",
       "      <th>293</th>\n",
       "      <td>296</td>\n",
       "      <td>37458</td>\n",
       "      <td>37458</td>\n",
       "      <td>37458</td>\n",
       "      <td>Pulp Fiction (1994)</td>\n",
       "      <td>Comedy|Crime|Drama|Thriller</td>\n",
       "    </tr>\n",
       "    <tr>\n",
       "      <th>352</th>\n",
       "      <td>356</td>\n",
       "      <td>32009</td>\n",
       "      <td>32009</td>\n",
       "      <td>32009</td>\n",
       "      <td>Forrest Gump (1994)</td>\n",
       "      <td>Comedy|Drama|Romance|War</td>\n",
       "    </tr>\n",
       "    <tr>\n",
       "      <th>257</th>\n",
       "      <td>260</td>\n",
       "      <td>31385</td>\n",
       "      <td>31385</td>\n",
       "      <td>31385</td>\n",
       "      <td>Star Wars: Episode IV - A New Hope (1977)</td>\n",
       "      <td>Action|Adventure|Sci-Fi</td>\n",
       "    </tr>\n",
       "    <tr>\n",
       "      <th>586</th>\n",
       "      <td>593</td>\n",
       "      <td>30280</td>\n",
       "      <td>30280</td>\n",
       "      <td>30280</td>\n",
       "      <td>Silence of the Lambs, The (1991)</td>\n",
       "      <td>Crime|Horror|Thriller</td>\n",
       "    </tr>\n",
       "  </tbody>\n",
       "</table>\n",
       "</div>"
      ],
      "text/plain": [
       "     movieId  userId  rating  timestamp  \\\n",
       "315      318   48762   48762      48762   \n",
       "293      296   37458   37458      37458   \n",
       "352      356   32009   32009      32009   \n",
       "257      260   31385   31385      31385   \n",
       "586      593   30280   30280      30280   \n",
       "\n",
       "                                         title                       genres  \n",
       "315           Shawshank Redemption, The (1994)                  Crime|Drama  \n",
       "293                        Pulp Fiction (1994)  Comedy|Crime|Drama|Thriller  \n",
       "352                        Forrest Gump (1994)     Comedy|Drama|Romance|War  \n",
       "257  Star Wars: Episode IV - A New Hope (1977)      Action|Adventure|Sci-Fi  \n",
       "586           Silence of the Lambs, The (1991)        Crime|Horror|Thriller  "
      ]
     },
     "execution_count": 3,
     "metadata": {},
     "output_type": "execute_result"
    }
   ],
   "source": [
    "ratings = pd.read_csv('ratings.csv')\n",
    "movies = pd.read_csv('movies.csv')\n",
    "\n",
    "# Отсев фильмов с оценкой меньше 5.0, подсчет количества оценок по каждому фильму\n",
    "max_rates = ratings[ratings.rating == 5.0].groupby(['movieId']).count()\n",
    "\n",
    "# Объединение данных по столбцу movieId\n",
    "union_rates_titles = pd.merge(max_rates, movies, on = 'movieId', how = 'inner')\n",
    "\n",
    "# Сортировка по столбцу rating\n",
    "top_rates= union_rates_titles.sort_values('rating', ascending = False)         \n",
    "top_rates.head()"
   ]
  }
 ],
 "metadata": {
  "kernelspec": {
   "display_name": "Python 3",
   "language": "python",
   "name": "python3"
  },
  "language_info": {
   "codemirror_mode": {
    "name": "ipython",
    "version": 3
   },
   "file_extension": ".py",
   "mimetype": "text/x-python",
   "name": "python",
   "nbconvert_exporter": "python",
   "pygments_lexer": "ipython3",
   "version": "3.8.5"
  }
 },
 "nbformat": 4,
 "nbformat_minor": 4
}
