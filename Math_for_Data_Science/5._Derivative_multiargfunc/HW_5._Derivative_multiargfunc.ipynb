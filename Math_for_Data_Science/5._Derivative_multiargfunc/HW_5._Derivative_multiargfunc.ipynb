{
 "cells": [
  {
   "cell_type": "markdown",
   "id": "667dd7a9",
   "metadata": {},
   "source": [
    "\n"
   ]
  },
  {
   "cell_type": "code",
   "execution_count": 25,
   "id": "4bfa6ada",
   "metadata": {},
   "outputs": [],
   "source": [
    "import numpy as np\n",
    "from sympy import *\n",
    "from scipy.optimize import approx_fprime"
   ]
  },
  {
   "cell_type": "markdown",
   "id": "1e54514b",
   "metadata": {},
   "source": [
    "### Уровень 0\n",
    "Посчитать частные производные функции:\n",
    "\n",
    "1) $f(x,y)=2x^2y^3 + 1/x + y^2x + 7$, а для этой функции также градиент в точке $(1,2)$"
   ]
  },
  {
   "cell_type": "code",
   "execution_count": 24,
   "id": "7754fd19",
   "metadata": {},
   "outputs": [],
   "source": [
    "# Создание символьной переменной\n",
    "x, y = symbols('x y')\n",
    "\n",
    "# Задание функции\n",
    "f1 = 2*x**2*y**3+1/x+y**2*x+7"
   ]
  },
  {
   "cell_type": "code",
   "execution_count": 25,
   "id": "2e2611c2",
   "metadata": {},
   "outputs": [
    {
     "data": {
      "text/latex": [
       "$\\displaystyle 4 x y^{3} + y^{2} - \\frac{1}{x^{2}}$"
      ],
      "text/plain": [
       "4*x*y**3 + y**2 - 1/x**2"
      ]
     },
     "execution_count": 25,
     "metadata": {},
     "output_type": "execute_result"
    }
   ],
   "source": [
    "# Частная производная функции по x\n",
    "df1x = diff(f1,x)\n",
    "df1x"
   ]
  },
  {
   "cell_type": "code",
   "execution_count": 26,
   "id": "42c41cc5",
   "metadata": {},
   "outputs": [
    {
     "data": {
      "text/latex": [
       "$\\displaystyle 6 x^{2} y^{2} + 2 x y$"
      ],
      "text/plain": [
       "6*x**2*y**2 + 2*x*y"
      ]
     },
     "execution_count": 26,
     "metadata": {},
     "output_type": "execute_result"
    }
   ],
   "source": [
    "# Частная производная функции по y\n",
    "df1y = diff(f1, y)\n",
    "df1y"
   ]
  },
  {
   "cell_type": "code",
   "execution_count": 27,
   "id": "6229b35e",
   "metadata": {},
   "outputs": [
    {
     "data": {
      "text/plain": [
       "array([35.0, 28.0], dtype=object)"
      ]
     },
     "execution_count": 27,
     "metadata": {},
     "output_type": "execute_result"
    }
   ],
   "source": [
    "# Градиент в точке (1,2)\n",
    "\n",
    "dx = df1x.evalf(3, subs = {x: 1, y: 2})\n",
    "dy = df1y.evalf(3, subs = {x: 1, y: 2})\n",
    "grad = np.array([dx, dy])\n",
    "grad"
   ]
  },
  {
   "cell_type": "markdown",
   "id": "6f2a7f8d",
   "metadata": {},
   "source": [
    "2) $f(x,y)=x^2y - sin(xy) + cos(x^2) + 6y$"
   ]
  },
  {
   "cell_type": "code",
   "execution_count": 51,
   "id": "df2fe1c0",
   "metadata": {},
   "outputs": [],
   "source": [
    "# Создание символьных переменных\n",
    "X, Y = symbols('X Y')\n",
    "\n",
    "# Задание функции\n",
    "f2 = X**2*Y-sin(X*Y)+cos(X**2)+6*Y"
   ]
  },
  {
   "cell_type": "code",
   "execution_count": 54,
   "id": "d3c6953c",
   "metadata": {},
   "outputs": [
    {
     "data": {
      "text/latex": [
       "$\\displaystyle 2 X Y - 2 X \\sin{\\left(X^{2} \\right)} - Y \\cos{\\left(X Y \\right)}$"
      ],
      "text/plain": [
       "2*X*Y - 2*X*sin(X**2) - Y*cos(X*Y)"
      ]
     },
     "execution_count": 54,
     "metadata": {},
     "output_type": "execute_result"
    }
   ],
   "source": [
    "# Частная производная функции по x\n",
    "df2x = diff(f2,X)\n",
    "df2x"
   ]
  },
  {
   "cell_type": "code",
   "execution_count": 55,
   "id": "9c77faa3",
   "metadata": {},
   "outputs": [
    {
     "data": {
      "text/latex": [
       "$\\displaystyle 0$"
      ],
      "text/plain": [
       "0"
      ]
     },
     "execution_count": 55,
     "metadata": {},
     "output_type": "execute_result"
    }
   ],
   "source": [
    "# Частная производная функции по y\n",
    "df2y = diff(f2, y)\n",
    "df2y"
   ]
  },
  {
   "cell_type": "markdown",
   "id": "a782ce47",
   "metadata": {},
   "source": [
    "### Уровень 1:\n",
    "Градиентный спуск своими руками:"
   ]
  },
  {
   "cell_type": "code",
   "execution_count": 60,
   "id": "0daa767d",
   "metadata": {},
   "outputs": [],
   "source": [
    "def f(x):\n",
    "    return (x[0]**2) + (x[1]**2)"
   ]
  },
  {
   "cell_type": "code",
   "execution_count": 75,
   "id": "e1eb5152",
   "metadata": {},
   "outputs": [],
   "source": [
    "x = np.array([100, 200])\n",
    "learning_rate = 0.1"
   ]
  },
  {
   "cell_type": "code",
   "execution_count": 90,
   "id": "e5499a02",
   "metadata": {},
   "outputs": [],
   "source": [
    "# Значения переменной x при градиентном спуске\n",
    "x_values = []\n",
    "\n",
    "for i in range(100):\n",
    "    # Calculate gradient\n",
    "    grad = approx_fprime(x, f, learning_rate)\n",
    "\n",
    "    # Update x with gradient\n",
    "    x = x - grad\n",
    "    \n",
    "    # Наполнение спсика значений переменной x\n",
    "    x_values.append(x)"
   ]
  },
  {
   "cell_type": "code",
   "execution_count": 92,
   "id": "f6e2defd",
   "metadata": {},
   "outputs": [
    {
     "name": "stdout",
     "output_type": "stream",
     "text": [
      "Минимум достигается в:  [2.75225619e+014 3.01057133e+145]\n",
      "Значение функции в минимуме:  9.06353971865695e+290\n"
     ]
    }
   ],
   "source": [
    "print(\"Минимум достигается в: \", x)\n",
    "print(\"Значение функции в минимуме: \", f(x))"
   ]
  },
  {
   "cell_type": "markdown",
   "id": "21171937",
   "metadata": {},
   "source": [
    "Проверка с помощью встроенной функции numpy:"
   ]
  },
  {
   "cell_type": "code",
   "execution_count": 93,
   "id": "1cd8f9bc",
   "metadata": {},
   "outputs": [
    {
     "data": {
      "text/plain": [
       "9.06351276873906e+290"
      ]
     },
     "execution_count": 93,
     "metadata": {},
     "output_type": "execute_result"
    }
   ],
   "source": [
    "fx_min = [f(xx) for xx in x_values]\n",
    "np.min(fx_min)"
   ]
  }
 ],
 "metadata": {
  "kernelspec": {
   "display_name": "Python 3",
   "language": "python",
   "name": "python3"
  },
  "language_info": {
   "codemirror_mode": {
    "name": "ipython",
    "version": 3
   },
   "file_extension": ".py",
   "mimetype": "text/x-python",
   "name": "python",
   "nbconvert_exporter": "python",
   "pygments_lexer": "ipython3",
   "version": "3.8.8"
  }
 },
 "nbformat": 4,
 "nbformat_minor": 5
}
