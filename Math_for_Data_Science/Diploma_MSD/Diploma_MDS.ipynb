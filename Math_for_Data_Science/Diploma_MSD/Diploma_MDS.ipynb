{
 "cells": [
  {
   "cell_type": "markdown",
   "id": "9a0d5c69",
   "metadata": {},
   "source": [
    "## Итоговая работа"
   ]
  },
  {
   "cell_type": "code",
   "execution_count": 57,
   "id": "8aa0919c",
   "metadata": {},
   "outputs": [],
   "source": [
    "import random\n",
    "import matplotlib.pyplot as plt\n",
    "import numpy as np\n",
    "from numpy import linalg\n",
    "from sympy import *\n",
    "from sklearn.metrics.pairwise import pairwise_distances\n",
    "from sklearn.decomposition import PCA\n",
    "from scipy.optimize import minimize\n",
    "%matplotlib inline"
   ]
  },
  {
   "cell_type": "markdown",
   "id": "e787a0ed",
   "metadata": {},
   "source": [
    "### Задание 1\n",
    "Дана матрица рейтингов фильмов (строки - пользователи (10 человек), столбцы - фильмы (15 фильмов))\n"
   ]
  },
  {
   "cell_type": "code",
   "execution_count": 58,
   "id": "4502e3c7",
   "metadata": {},
   "outputs": [],
   "source": [
    "\n",
    "raitings = np.array([[ 4,  4,  9,  4,  1,  6, 10,  7,  9,  6,  9,  2,  8,  6,  6],\n",
    "                     [ 9,  2,  5, 10,  7,  8, 10,  5,  6,  2,  1,  6,  8,  9,  7],\n",
    "                     [ 1,  6,  8,  8,  4,  9,  3,  8, 10,  5,  2,  6,  8,  1,  6],\n",
    "                     [ 6,  1,  9,  7,  7,  9,  2,  3,  5,  1,  6,  6,  3,  2,  7],\n",
    "                     [ 3,  7,  3,  5,  7,  9,  9,  6,  2,  9,  1,  2,  8, 10,  6],\n",
    "                     [ 8,  3,  7,  3,  8,  6,  1,  8,  8,  6,  1,  9,  4, 10,  1],\n",
    "                     [ 9,  8,  4,  8,  8, 10,  6,  1,  1,  2,  9,  5,  2,  7,  2],\n",
    "                     [ 4,  1,  6,  4,  3, 10,  4,  4,  2,  8,  7,  9,  3,  8,  3],\n",
    "                     [ 2,  7,  7,  6, 10,  6,  8,  9,  8,  6, 10,  1,  7, 10,  4],\n",
    "                     [ 5, 10,  8,  8,  9,  7,  2,  9,  9, 10,  8,  8,  8,  6, 10]])"
   ]
  },
  {
   "cell_type": "markdown",
   "id": "d9ce58c7",
   "metadata": {},
   "source": [
    "a) Необходимо найти наиболее похожего пользователя по косинусной метрике для каждого из (ответ: 10 пар вида (x, y), где y - наиболее похожий пользователь на пользователя x)."
   ]
  },
  {
   "cell_type": "code",
   "execution_count": 59,
   "id": "aff14e42",
   "metadata": {},
   "outputs": [],
   "source": [
    "# Создание словаря для сравнения пар пользователей\n",
    "pairs = {}\n",
    "\n",
    "# Счетчик строк пользователей\n",
    "i = 0\n",
    "j = 0"
   ]
  },
  {
   "cell_type": "code",
   "execution_count": 60,
   "id": "5ee98277",
   "metadata": {},
   "outputs": [],
   "source": [
    "# Сравнение пар пользователей\n",
    "\n",
    "for x in raitings:\n",
    "    for y in raitings:\n",
    "        pair = tuple(sorted([i, j]))\n",
    "        if i != j:                        # Исключение сравнения пользователя с самим собой\n",
    "            x_lenght = np.linalg.norm(x)  # Расчет длины вектора\n",
    "            y_lenght = np.linalg.norm(y)\n",
    "            cos_ = np.dot(x,y) / (x_lenght * y_lenght)   # Вычисление косинуса угла между векторами\n",
    "            pairs[pair] = cos_\n",
    "            j += 1\n",
    "    j = 0\n",
    "    i +=1       "
   ]
  },
  {
   "cell_type": "code",
   "execution_count": 61,
   "id": "5ed905ac",
   "metadata": {},
   "outputs": [],
   "source": [
    "# Сортировка словаря по значениям по убыванию\n",
    "pairs_sorted = sorted(pairs, key = lambda k: pairs[k])"
   ]
  },
  {
   "cell_type": "code",
   "execution_count": 62,
   "id": "3e9e9d4f",
   "metadata": {},
   "outputs": [
    {
     "name": "stdout",
     "output_type": "stream",
     "text": [
      "[ 1  6  8  8  4  9  3  8 10  5  2  6  8  1  6], [ 9  8  4  8  8 10  6  1  1  2  9  5  2  7  2]\n",
      "[6 1 9 7 7 9 2 3 5 1 6 6 3 2 7], [ 3  7  3  5  7  9  9  6  2  9  1  2  8 10  6]\n",
      "[ 4  4  9  4  1  6 10  7  9  6  9  2  8  6  6], [ 9  8  4  8  8 10  6  1  1  2  9  5  2  7  2]\n",
      "[ 8  3  7  3  8  6  1  8  8  6  1  9  4 10  1], [ 9  8  4  8  8 10  6  1  1  2  9  5  2  7  2]\n",
      "[ 4  4  9  4  1  6 10  7  9  6  9  2  8  6  6], [ 8  3  7  3  8  6  1  8  8  6  1  9  4 10  1]\n",
      "[ 1  6  8  8  4  9  3  8 10  5  2  6  8  1  6], [ 4  1  6  4  3 10  4  4  2  8  7  9  3  8  3]\n",
      "[ 3  7  3  5  7  9  9  6  2  9  1  2  8 10  6], [ 8  3  7  3  8  6  1  8  8  6  1  9  4 10  1]\n",
      "[6 1 9 7 7 9 2 3 5 1 6 6 3 2 7], [ 2  7  7  6 10  6  8  9  8  6 10  1  7 10  4]\n",
      "[ 3  7  3  5  7  9  9  6  2  9  1  2  8 10  6], [ 9  8  4  8  8 10  6  1  1  2  9  5  2  7  2]\n",
      "[ 4  4  9  4  1  6 10  7  9  6  9  2  8  6  6], [6 1 9 7 7 9 2 3 5 1 6 6 3 2 7]\n"
     ]
    },
    {
     "data": {
      "text/plain": [
       "[None, None, None, None, None, None, None, None, None, None]"
      ]
     },
     "execution_count": 62,
     "metadata": {},
     "output_type": "execute_result"
    }
   ],
   "source": [
    "# 10 пар наиболее похожих между собой пользователей\n",
    "[print(raitings[x[0]], raitings[x[1]], sep = ', ') for x in pairs_sorted[:10]]"
   ]
  },
  {
   "cell_type": "markdown",
   "id": "5fb82ef6",
   "metadata": {},
   "source": [
    "b) Предположим, вы захотели сжать признаковые описания пользователя с 15 фильмов, до, скажем, 5-ти признаков, как вы это сделаете?"
   ]
  },
  {
   "cell_type": "code",
   "execution_count": 63,
   "id": "ed63a3b1",
   "metadata": {},
   "outputs": [],
   "source": [
    "# Создание экземпляра PCA\n",
    "pca = PCA(n_components = 5)\n",
    "\n",
    "# Снижение размерности данных\n",
    "raitings_transformed = pca.fit_transform(raitings)\n"
   ]
  },
  {
   "cell_type": "code",
   "execution_count": 64,
   "id": "272e7150",
   "metadata": {},
   "outputs": [],
   "source": [
    "# Доля от общей дисперсии по каждому компоненту\n",
    "explained_variance = pca.explained_variance_ratio_"
   ]
  },
  {
   "cell_type": "code",
   "execution_count": 65,
   "id": "0613daeb",
   "metadata": {},
   "outputs": [
    {
     "data": {
      "text/plain": [
       "0.8343544281843047"
      ]
     },
     "execution_count": 65,
     "metadata": {},
     "output_type": "execute_result"
    }
   ],
   "source": [
    "# Общая доля от общей дисперсии\n",
    "np.sum(explained_variance)"
   ]
  },
  {
   "cell_type": "markdown",
   "id": "9f82ee84",
   "metadata": {},
   "source": [
    "Вывод:\n",
    "\n",
    "При сжатии массива до 5 признаков сохранятется 83% информации."
   ]
  },
  {
   "cell_type": "markdown",
   "id": "883b1386",
   "metadata": {},
   "source": [
    "### Задание 2\n",
    "Вычислите производную $tg^2(sin(x) + cos(2x+3))$ в точке $x_0=1$ (на python и на бумаге)."
   ]
  },
  {
   "cell_type": "code",
   "execution_count": 66,
   "id": "16c8fe56",
   "metadata": {},
   "outputs": [
    {
     "data": {
      "text/latex": [
       "$\\displaystyle 55.3859$"
      ],
      "text/plain": [
       "55.3859"
      ]
     },
     "execution_count": 66,
     "metadata": {},
     "output_type": "execute_result"
    }
   ],
   "source": [
    "# Создание символьной переменной\n",
    "x = symbols('x')\n",
    "\n",
    "# Описание переменной\n",
    "func = tan(sin(x)+cos(2*x+3))**2\n",
    "\n",
    "# Вычисление первой производной в т. x0 = 1\n",
    "diff(func, x).evalf(6, subs = {x: 1})"
   ]
  },
  {
   "cell_type": "markdown",
   "id": "2b43d54d",
   "metadata": {},
   "source": [
    "### Задание 3\n",
    "Дана функция с неизвестными параметрами a и b, также известны значения функции fx в точках x. Найти оптимальные параметры a, b, минимизирующие абсолютную ошибку error."
   ]
  },
  {
   "cell_type": "code",
   "execution_count": 67,
   "id": "ab7acb96",
   "metadata": {},
   "outputs": [],
   "source": [
    "def f(x, a, b):\n",
    "    return np.e**a * np.sin(b*x) + x"
   ]
  },
  {
   "cell_type": "code",
   "execution_count": 68,
   "id": "e13d0d27",
   "metadata": {},
   "outputs": [],
   "source": [
    "x = np.array([0.        , 0.26315789, 0.52631579, 0.78947368, 1.05263158,\n",
    "              1.31578947, 1.57894737, 1.84210526, 2.10526316, 2.36842105,\n",
    "              2.63157895, 2.89473684, 3.15789474, 3.42105263, 3.68421053,\n",
    "              3.94736842, 4.21052632, 4.47368421, 4.73684211, 5.        ])"
   ]
  },
  {
   "cell_type": "code",
   "execution_count": 69,
   "id": "1c554744",
   "metadata": {},
   "outputs": [],
   "source": [
    "fx = np.array([  0.        , -12.01819092, -18.90968634, -17.68786571,\n",
    "                -8.7529108 ,   4.27524517,  16.06801336,  21.81250213,\n",
    "                19.22059845,   9.48411207,  -3.22273056, -13.48576488,\n",
    "               -16.91096359, -11.95866834,  -0.58630088,  12.56873816,\n",
    "                22.12489421,  24.20292139,  18.04522521,   6.33211092])"
   ]
  },
  {
   "cell_type": "code",
   "execution_count": 70,
   "id": "5c39967a",
   "metadata": {},
   "outputs": [
    {
     "data": {
      "image/png": "[encoded data removed]",
      "text/plain": [
       "<Figure size 432x288 with 1 Axes>"
      ]
     },
     "metadata": {
      "needs_background": "light"
     },
     "output_type": "display_data"
    }
   ],
   "source": [
    "plt.plot(x, fx)\n",
    "plt.show()"
   ]
  },
  {
   "cell_type": "code",
   "execution_count": 71,
   "id": "5b54b50e",
   "metadata": {},
   "outputs": [],
   "source": [
    "def error(params):\n",
    "    return np.sum(np.abs(fx - f(x, params[0], params[1])))"
   ]
  },
  {
   "cell_type": "code",
   "execution_count": 72,
   "id": "98c71ad5",
   "metadata": {},
   "outputs": [],
   "source": [
    "# Начальная точка\n",
    "x0 = np.array([0, 0])"
   ]
  },
  {
   "cell_type": "code",
   "execution_count": 73,
   "id": "c842cfb3",
   "metadata": {},
   "outputs": [],
   "source": [
    "# Функция минимизации\n",
    "res = minimize(error, x0, method = 'COBYLA')"
   ]
  },
  {
   "cell_type": "code",
   "execution_count": 74,
   "id": "b7800645",
   "metadata": {},
   "outputs": [
    {
     "data": {
      "text/plain": [
       "array([ 3.00018796, -2.50008926])"
      ]
     },
     "execution_count": 74,
     "metadata": {},
     "output_type": "execute_result"
    }
   ],
   "source": [
    "# Значение параметров a и b, минимизирующих абсолютную ошибку\n",
    "res.x"
   ]
  },
  {
   "cell_type": "markdown",
   "id": "dc3d58b9",
   "metadata": {},
   "source": [
    "### Задание 4\n",
    "Создать собственную дискретную случайную величину с 20 значениями. Сгенерировать 1000 выборок размера 50. Посчитать среднее для каждой выборки. Построить гистограмму распределения средних."
   ]
  },
  {
   "cell_type": "code",
   "execution_count": 75,
   "id": "03bc61b4",
   "metadata": {},
   "outputs": [],
   "source": [
    "# Задание начального условия для генератора случайных чисел\n",
    "np.random.seed(42)\n",
    "\n",
    "# Генерация дискретной случайной величины\n",
    "seq = random.sample(range(30), 20)"
   ]
  },
  {
   "cell_type": "code",
   "execution_count": 76,
   "id": "dd10f0af",
   "metadata": {},
   "outputs": [],
   "source": [
    "# Генерация 1000 выборок размером 50\n",
    "samples = np.random.choice(seq, size = (1000, 50))"
   ]
  },
  {
   "cell_type": "code",
   "execution_count": 77,
   "id": "fba904e8",
   "metadata": {},
   "outputs": [],
   "source": [
    "# Расчет средних значений каждой выборки\n",
    "samp_mean = [np.mean(sample) for sample in samples]"
   ]
  },
  {
   "cell_type": "code",
   "execution_count": 78,
   "id": "b1b6d144",
   "metadata": {},
   "outputs": [
    {
     "data": {
      "text/plain": [
       "Text(0, 0.5, 'frequency')"
      ]
     },
     "execution_count": 78,
     "metadata": {},
     "output_type": "execute_result"
    },
    {
     "data": {
      "image/png": "[encoded data removed]",
      "text/plain": [
       "<Figure size 432x288 with 1 Axes>"
      ]
     },
     "metadata": {
      "needs_background": "light"
     },
     "output_type": "display_data"
    }
   ],
   "source": [
    "# Гистограмма распрелеления средних значений\n",
    "\n",
    "plt.hist(samp_mean, 100)\n",
    "plt.xlabel('mean')\n",
    "plt.ylabel('frequency')"
   ]
  },
  {
   "cell_type": "markdown",
   "id": "213bbdf1",
   "metadata": {},
   "source": [
    "### Задание 5\n",
    "Найдите собственные значения и собственные вектора матрицы (на python и на бумаге):"
   ]
  },
  {
   "cell_type": "code",
   "execution_count": 79,
   "id": "6bcf3f29",
   "metadata": {},
   "outputs": [
    {
     "name": "stdout",
     "output_type": "stream",
     "text": [
      "[[1 4]\n",
      " [1 1]]\n"
     ]
    }
   ],
   "source": [
    "m = np.array([[1, 4],\n",
    "              [1, 1]])\n",
    "print(m)"
   ]
  },
  {
   "cell_type": "code",
   "execution_count": 80,
   "id": "f1353841",
   "metadata": {},
   "outputs": [],
   "source": [
    "# Собственные значения и вектора матрицы m\n",
    "w,v = np.linalg.eig(m)"
   ]
  },
  {
   "cell_type": "code",
   "execution_count": 81,
   "id": "c47791ed",
   "metadata": {},
   "outputs": [
    {
     "name": "stdout",
     "output_type": "stream",
     "text": [
      "Сосбственные значения матрицы m: [ 3. -1.]\n",
      "Сосбственные вектора матрицы m:\n",
      "[[ 0.89442719 -0.89442719]\n",
      " [ 0.4472136   0.4472136 ]]\n"
     ]
    }
   ],
   "source": [
    "print('Сосбственные значения матрицы m:', w)\n",
    "print('Сосбственные вектора матрицы m:')\n",
    "print(v)"
   ]
  },
  {
   "cell_type": "code",
   "execution_count": null,
   "id": "f8e1c092",
   "metadata": {},
   "outputs": [],
   "source": []
  }
 ],
 "metadata": {
  "kernelspec": {
   "display_name": "Python 3",
   "language": "python",
   "name": "python3"
  },
  "language_info": {
   "codemirror_mode": {
    "name": "ipython",
    "version": 3
   },
   "file_extension": ".py",
   "mimetype": "text/x-python",
   "name": "python",
   "nbconvert_exporter": "python",
   "pygments_lexer": "ipython3",
   "version": "3.8.8"
  }
 },
 "nbformat": 4,
 "nbformat_minor": 5
}
