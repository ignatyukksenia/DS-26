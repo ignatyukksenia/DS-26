{
 "cells": [
  {
   "cell_type": "markdown",
   "id": "61cbb71d",
   "metadata": {},
   "source": [
    "Задание 1:\n",
    "Монетку подбрасывают 15 раз, найти вероятность выпадения простого числа орлов."
   ]
  },
  {
   "cell_type": "code",
   "execution_count": 1,
   "id": "10967511",
   "metadata": {},
   "outputs": [],
   "source": [
    "import math\n",
    "import random\n",
    "import numpy as np\n",
    "import matplotlib.pyplot as plt"
   ]
  },
  {
   "cell_type": "code",
   "execution_count": 2,
   "id": "179be9ea",
   "metadata": {},
   "outputs": [],
   "source": [
    "P = 0     # Вероятность суммы событий\n",
    "n = 15    # Количество испытаний\n",
    "p = 0.5   # Вероятность наступления события\n",
    "q = 0.5   # Вероятность ненаступления события\n",
    "\n",
    "# Простые числа в диапазоне от 1 до 15\n",
    "simple_num = [2, 3, 5, 7,]\n",
    "\n",
    "for k in simple_num:\n",
    "    Cn_k = math.factorial(n)/(math.factorial(n-k) * math.factorial(k))\n",
    "    Pn = Cn_k * p**k * q**(n-k)\n",
    "    P += Pn"
   ]
  },
  {
   "cell_type": "code",
   "execution_count": 3,
   "id": "3984265a",
   "metadata": {},
   "outputs": [
    {
     "name": "stdout",
     "output_type": "stream",
     "text": [
      "Вероятность выпадения простого числа орлов: 0.31\n"
     ]
    }
   ],
   "source": [
    "print(f'Вероятность выпадения простого числа орлов: {round(P, 2)}')"
   ]
  },
  {
   "cell_type": "markdown",
   "id": "c8b0e6a6",
   "metadata": {},
   "source": [
    "Задание 2:\n",
    "\n",
    "Создать свою дискретную случайную величину с не менее, чем 10 значениями. Просемплировать 1000 случайных значений, построить гистограмму плотности распределения по выборке, посчитать среднее, дисперсию и медиану."
   ]
  },
  {
   "cell_type": "code",
   "execution_count": 4,
   "id": "977155a6",
   "metadata": {},
   "outputs": [],
   "source": [
    "# Задание начального условия для генератова случайных чисел\n",
    "np.random.seed(42)\n",
    "\n",
    "# Генерация дискретной случайной величины\n",
    "# seq = np.random.randint(0, 20, 15)\n",
    "seq = random.sample(range(20), 12)"
   ]
  },
  {
   "cell_type": "code",
   "execution_count": 5,
   "id": "f791fa54",
   "metadata": {},
   "outputs": [],
   "source": [
    "# 1000 случайных значений из заданной последовательности\n",
    "sample = random.choices(seq, k = 1000)"
   ]
  },
  {
   "cell_type": "code",
   "execution_count": 6,
   "id": "11dd01c5",
   "metadata": {},
   "outputs": [
    {
     "name": "stdout",
     "output_type": "stream",
     "text": [
      "Среднее значение по выборке: 10.524\n",
      "Дисперсия по выборке: 29.975424\n",
      "Медиана выборки: 10.0\n"
     ]
    }
   ],
   "source": [
    "print(f'Среднее значение по выборке: {np.mean(sample)}')\n",
    "print(f'Дисперсия по выборке: {np.var(sample)}')\n",
    "print(f'Медиана выборки: {np.median(sample)}')"
   ]
  },
  {
   "cell_type": "code",
   "execution_count": 14,
   "id": "89211a2b",
   "metadata": {},
   "outputs": [
    {
     "data": {
      "text/plain": [
       "Text(0, 0.5, 'frequency')"
      ]
     },
     "execution_count": 14,
     "metadata": {},
     "output_type": "execute_result"
    },
    {
     "data": {
      "image/png": "[encoded data removed]",
      "text/plain": [
       "<Figure size 432x288 with 1 Axes>"
      ]
     },
     "metadata": {
      "needs_background": "light"
     },
     "output_type": "display_data"
    }
   ],
   "source": [
    "# Гистограмма плотности распределения по выборке\n",
    "\n",
    "plt.hist(sample, 12, density = True)\n",
    "plt.xlabel('sample')\n",
    "plt.ylabel('frequency')"
   ]
  },
  {
   "cell_type": "markdown",
   "id": "66e23935",
   "metadata": {},
   "source": [
    "Задание 4 (формула полной вероятности):\n",
    "\n",
    "В магазин привезли устройства с 3-х разных предприятий.\n",
    "\n",
    "Соотношение устройств следующее: 20% - продукция первого предприятия, 30% - продукция второго предприятия, 50% - продукция третьего предприятия; далее, 10% продукции первого предприятия высшего сорта, на втором предприятии - 5% и на третьем - 20% продукции высшего сорта.\n",
    "\n",
    "Найти вероятность того, что случайно купленная новая продукция окажется высшего сорта."
   ]
  },
  {
   "cell_type": "code",
   "execution_count": 8,
   "id": "ba8427b4",
   "metadata": {},
   "outputs": [
    {
     "data": {
      "text/plain": [
       "0.135"
      ]
     },
     "execution_count": 8,
     "metadata": {},
     "output_type": "execute_result"
    }
   ],
   "source": [
    "# Априорные вероятности (продукции произведена I, II или III предприятием)\n",
    "B = np.array([0.2, 0.3, 0.5])\n",
    "\n",
    "# Апостериорные вероятности (продукция высшего сорта произведена I, II или III предприятием)\n",
    "A = np.array([0.1, 0.05, 0.2])\n",
    "\n",
    "# Вероятность покупки продукции высшего сорта\n",
    "P_A = np.dot(A, B)\n",
    "P_A"
   ]
  },
  {
   "cell_type": "code",
   "execution_count": null,
   "id": "b7757ac5",
   "metadata": {},
   "outputs": [],
   "source": []
  }
 ],
 "metadata": {
  "kernelspec": {
   "display_name": "Python 3",
   "language": "python",
   "name": "python3"
  },
  "language_info": {
   "codemirror_mode": {
    "name": "ipython",
    "version": 3
   },
   "file_extension": ".py",
   "mimetype": "text/x-python",
   "name": "python",
   "nbconvert_exporter": "python",
   "pygments_lexer": "ipython3",
   "version": "3.8.8"
  }
 },
 "nbformat": 4,
 "nbformat_minor": 5
}
