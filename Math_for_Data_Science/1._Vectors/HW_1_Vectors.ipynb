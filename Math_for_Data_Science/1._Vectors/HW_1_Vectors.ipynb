{
 "cells": [
  {
   "cell_type": "markdown",
   "id": "3fb70a39",
   "metadata": {},
   "source": [
    "### Задание:\n",
    "\n",
    "\n",
    "\n"
   ]
  },
  {
   "cell_type": "code",
   "execution_count": 3,
   "id": "9b665eee",
   "metadata": {},
   "outputs": [],
   "source": [
    "import numpy as np\n",
    "import matplotlib.pyplot as plt"
   ]
  },
  {
   "cell_type": "code",
   "execution_count": 7,
   "id": "a2755fde",
   "metadata": {},
   "outputs": [],
   "source": [
    "# Создание массивов x, y,z\n",
    "\n",
    "x = np.array([1, 1])\n",
    "y = np.array([2, 0])\n",
    "z = np.array([0, 2])\n",
    "\n",
    "# Сумма векторов x, y, z\n",
    "c = x + y + z"
   ]
  },
  {
   "cell_type": "code",
   "execution_count": 32,
   "id": "03f6020c",
   "metadata": {},
   "outputs": [
    {
     "data": {
      "text/plain": [
       "<function matplotlib.pyplot.grid(b=None, which='major', axis='both', **kwargs)>"
      ]
     },
     "execution_count": 32,
     "metadata": {},
     "output_type": "execute_result"
    },
    {
     "data": {
      "image/png": "[encoded data removed]",
      "text/plain": [
       "<Figure size 432x288 with 1 Axes>"
      ]
     },
     "metadata": {
      "needs_background": "light"
     },
     "output_type": "display_data"
    }
   ],
   "source": [
    "# Визуализация векторов\n",
    "\n",
    "plt.figure()\n",
    "plt.plot(x[0], x[1], 'o')  # Вектор x\n",
    "plt.text(x[0] + 0.1, x[1], 'x', color = 'blue')\n",
    "plt.plot(y[0], y[1], 'o')  # Вектор y\n",
    "plt.text(y[0] + 0.1, y[1], 'y', color = 'orange')\n",
    "plt.plot(z[0], z[1], 'o')  # Вектор z\n",
    "plt.text(z[0] + 0.1, z[1], 'z', color = 'green')\n",
    "plt.plot(c[0], c[1], 'x')  # Сумма векторов\n",
    "plt.text(c[0] - 0.3, c[1] - 0.2, 'x+y+z', color = 'brown')\n",
    "plt.grid"
   ]
  },
  {
   "cell_type": "code",
   "execution_count": 34,
   "id": "6e07d959",
   "metadata": {},
   "outputs": [
    {
     "data": {
      "text/plain": [
       "45.0"
      ]
     },
     "execution_count": 34,
     "metadata": {},
     "output_type": "execute_result"
    }
   ],
   "source": [
    "# Угол между векторами x, y\n",
    "\n",
    "len_x = np.linalg.norm(x)\n",
    "len_y = np.linalg.norm(y)\n",
    "cos_x = np.dot(x, y) / (len_x*len_y)\n",
    "angle_x_y = np.arccos(cos_x)*180/np.pi\n",
    "angle_x_y.round()"
   ]
  }
 ],
 "metadata": {
  "kernelspec": {
   "display_name": "Python 3",
   "language": "python",
   "name": "python3"
  },
  "language_info": {
   "codemirror_mode": {
    "name": "ipython",
    "version": 3
   },
   "file_extension": ".py",
   "mimetype": "text/x-python",
   "name": "python",
   "nbconvert_exporter": "python",
   "pygments_lexer": "ipython3",
   "version": "3.8.8"
  }
 },
 "nbformat": 4,
 "nbformat_minor": 5
}
