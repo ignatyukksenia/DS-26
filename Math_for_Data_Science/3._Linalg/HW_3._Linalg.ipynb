{
 "cells": [
  {
   "cell_type": "markdown",
   "id": "42b6f538",
   "metadata": {},
   "source": [
    "### Уровень 0:\n",
    "Придумать матрицы, которые обладают следующими свойствами:\n",
    "\n",
    "a) Диагональная, ортогональная, но не единичная(!)\n",
    "\n",
    "b) Верхнетреугольная, ортогональная\n",
    "\n",
    "c) Нижнетреугольная, ортогональная\n",
    "\n",
    "d) Матрица, у которой определитель = 1, и все элементы не равны 0\n",
    "\n",
    "P.S. Во всех пунктах ответом должна быть ненулевая матрица размерности не менее 2!\n",
    "\n",
    "Найти собственные значения и собственные вектора матрицы:\n",
    "\n",
    "m = np.array([[2, 2],\n",
    "              [1, 3]])\n",
    "print(m)"
   ]
  },
  {
   "cell_type": "code",
   "execution_count": 9,
   "id": "67c312cd",
   "metadata": {},
   "outputs": [],
   "source": [
    "import numpy as np\n",
    "from numpy import linalg\n",
    "from sklearn.datasets import load_digits\n",
    "from sklearn.decomposition import PCA\n",
    "from sklearn.metrics import mean_squared_error\n",
    "import matplotlib.pyplot as plt "
   ]
  },
  {
   "cell_type": "code",
   "execution_count": 2,
   "id": "e455ac24",
   "metadata": {},
   "outputs": [
    {
     "data": {
      "text/plain": [
       "array([[1, 0, 0],\n",
       "       [0, 1, 0],\n",
       "       [0, 0, 1]])"
      ]
     },
     "execution_count": 2,
     "metadata": {},
     "output_type": "execute_result"
    }
   ],
   "source": [
    "# а) Диагональная, ортогональная, но не единичная матрица\n",
    "\n",
    "a = np.array([[-1, 0, 0], [0, -1, 0], [0, 0, -1]])\n",
    "\n",
    "np.dot(a, a.T)   # Проверка ортогональности"
   ]
  },
  {
   "cell_type": "markdown",
   "id": "08d7d5a3",
   "metadata": {},
   "source": [
    "#### b, c) Верхнеугольная и нижнеугольная ортогональные матрицы\n",
    "\n",
    "Ортогональная матрица обладает следующим свойством: сумма квардатов элементов каждой строки/столбца ортогональной матрицы равна 1. \n",
    "\n",
    "Это свойство не выполняется для угольных матриц, т.к. сумма квардатов элементов строки со всеми ненулевыми элементами не может быть равна 1 одновремнно с суммой квадратов элементов строки только с одним ненулевым элементом.\n",
    "\n",
    "Т.о. верхнеугольная/нижнеугольная матрица не может быть ортогональной."
   ]
  },
  {
   "cell_type": "code",
   "execution_count": 3,
   "id": "b08c6797",
   "metadata": {},
   "outputs": [
    {
     "data": {
      "text/plain": [
       "1.0"
      ]
     },
     "execution_count": 3,
     "metadata": {},
     "output_type": "execute_result"
    }
   ],
   "source": [
    "# d) Матрица, у которой определитель = 1, и все элементы не равны 0\n",
    "b = np.array([[4, 1], [3, 1]])\n",
    "\n",
    "# определитель матрицы\n",
    "\n",
    "np.linalg.det(b)"
   ]
  },
  {
   "cell_type": "code",
   "execution_count": 4,
   "id": "6df4c4b9",
   "metadata": {},
   "outputs": [
    {
     "name": "stdout",
     "output_type": "stream",
     "text": [
      "Сосбственные значения матрицы m: [1. 4.]\n",
      "Сосбственные вектора матрицы m:\n",
      "[[-0.89442719 -0.70710678]\n",
      " [ 0.4472136  -0.70710678]]\n"
     ]
    }
   ],
   "source": [
    "# Найти собственные значения и собственные вектора матрицы:\n",
    "\n",
    "m = np.array([[2, 2],\n",
    "              [1, 3]])\n",
    "# print(m)\n",
    "\n",
    "# Собственные значения и вектора матрицы m\n",
    "w, v = np.linalg.eig(m)\n",
    "print('Сосбственные значения матрицы m:', w)\n",
    "print('Сосбственные вектора матрицы m:')\n",
    "print(v)"
   ]
  },
  {
   "cell_type": "markdown",
   "id": "91fdd66a",
   "metadata": {},
   "source": [
    "### Уровень 1:\n",
    "Найти спектральное разложение матрицы:\n",
    "\n",
    "m = np.array([[1, 2],\n",
    "              [2,3]])\n",
    "\n",
    "print(m)\n"
   ]
  },
  {
   "cell_type": "code",
   "execution_count": 5,
   "id": "5a1dacb8",
   "metadata": {},
   "outputs": [
    {
     "name": "stdout",
     "output_type": "stream",
     "text": [
      "[[-2.36067977e-01  4.44089210e-16]\n",
      " [ 0.00000000e+00  4.23606798e+00]]\n"
     ]
    }
   ],
   "source": [
    "# Спектральное разложение матрицы m\n",
    "m = np.array([[1, 2],\n",
    "              [2,3]])\n",
    "\n",
    "# print(m)\n",
    "\n",
    "w, v = np.linalg.eig(m)     # Собственные значения и вектора матрицы m\n",
    "D = np.diag(w)              # Диагональная матрица с собственными значениями\n",
    "\n",
    "\n",
    "# Спектральное разложение матрицы m\n",
    "M = np.dot(v, np.dot(v.T, D))\n",
    "\n",
    "print(M)"
   ]
  },
  {
   "cell_type": "markdown",
   "id": "1c577ceb",
   "metadata": {},
   "source": [
    "### Построение зависимости качества восстановления рукописных цифр (MNIST) в зависимости от различного количества компонент PCA. В качестве метрики различия использовать MSE\n",
    "\n",
    "\n",
    "\n"
   ]
  },
  {
   "cell_type": "code",
   "execution_count": 10,
   "id": "330b648e",
   "metadata": {},
   "outputs": [
    {
     "name": "stdout",
     "output_type": "stream",
     "text": [
      "Рамер набора данных: (1797, 64)\n"
     ]
    }
   ],
   "source": [
    "# Загрузка набора данных MNIST\n",
    "digits = load_digits()\n",
    "\n",
    "# Размер набора данных\n",
    "print('Рамер набора данных:', digits.data.shape)\n",
    "\n",
    "# Количество компонент в исходном изображении\n",
    "components = 64\n",
    "\n",
    "# Сопоставелние количество компонент и значения средней квардатической ошибки\n",
    "components_MSE = {}"
   ]
  },
  {
   "cell_type": "code",
   "execution_count": 11,
   "id": "acb5e038",
   "metadata": {},
   "outputs": [],
   "source": [
    "def MSE(data, components):\n",
    "    while components > 1:\n",
    "        components -= 1\n",
    "        pca = PCA(n_components = components)                 # Создание экземпляра PCA\n",
    "        digits_transformed = pca.fit_transform(digits.data)        # Снижение размерности данных\n",
    "        digits_recovered = pca.inverse_transform(digits_transformed)     # Восстановление данных\n",
    "        MSE = mean_squared_error(digits.data, digits_recovered)       # Средняя квадратическая ошибка\n",
    "        components_MSE[components] = round(MSE, 2)"
   ]
  },
  {
   "cell_type": "code",
   "execution_count": 12,
   "id": "69256240",
   "metadata": {},
   "outputs": [],
   "source": [
    "MSE(digits.data, components)"
   ]
  },
  {
   "cell_type": "code",
   "execution_count": 13,
   "id": "c19e5738",
   "metadata": {},
   "outputs": [
    {
     "data": {
      "text/plain": [
       "<function matplotlib.pyplot.show(close=None, block=None)>"
      ]
     },
     "execution_count": 13,
     "metadata": {},
     "output_type": "execute_result"
    },
    {
     "data": {
      "image/png": "[encoded data removed]",
      "text/plain": [
       "<Figure size 432x288 with 1 Axes>"
      ]
     },
     "metadata": {
      "needs_background": "light"
     },
     "output_type": "display_data"
    }
   ],
   "source": [
    "# Зависимость качества восстановления рукописных цифр от количества компонент PCA\n",
    "\n",
    "plt.plot(components_MSE.keys(), components_MSE.values())\n",
    "plt.title('Зависимость качества восстановления данных от количества компонент')\n",
    "plt.xlabel('Количество компонент')\n",
    "plt.ylabel('Средняя квадратичкая ошибка')\n",
    "plt.show"
   ]
  },
  {
   "cell_type": "markdown",
   "id": "587cf1a2",
   "metadata": {},
   "source": [
    "Выводы:\n",
    "\n",
    "Исходный массив имеет 1797 образцов рукописных цифр, размерность каждого элемента - 64 компонента.\n",
    "\n",
    "Средняя квадратическая ошибка заметно растет при размерности 16-17 компонент и менее."
   ]
  },
  {
   "cell_type": "code",
   "execution_count": null,
   "id": "9ffa96c8",
   "metadata": {},
   "outputs": [],
   "source": []
  }
 ],
 "metadata": {
  "kernelspec": {
   "display_name": "Python 3",
   "language": "python",
   "name": "python3"
  },
  "language_info": {
   "codemirror_mode": {
    "name": "ipython",
    "version": 3
   },
   "file_extension": ".py",
   "mimetype": "text/x-python",
   "name": "python",
   "nbconvert_exporter": "python",
   "pygments_lexer": "ipython3",
   "version": "3.8.8"
  }
 },
 "nbformat": 4,
 "nbformat_minor": 5
}
